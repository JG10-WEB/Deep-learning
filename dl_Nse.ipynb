{
  "nbformat": 4,
  "nbformat_minor": 0,
  "metadata": {
    "colab": {
      "name": "deep learning experiment 9.ipynb",
      "provenance": [],
      "collapsed_sections": []
    },
    "kernelspec": {
      "name": "python3",
      "display_name": "Python 3"
    },
    "language_info": {
      "name": "python"
    }
  },
  "cells": [
    {
      "cell_type": "markdown",
      "metadata": {
        "id": "xYQioXqAMhdw"
      },
      "source": [
        "Name: Jay Goyal\n",
        "\n",
        "Experiment: 9\n",
        "\n",
        "Roll No: C017\n",
        "\n",
        "Btech EXTC\n",
        "\n",
        "Third Year\n",
        "\n",
        "Semester 6\n",
        "\n",
        "Stock Market Prediction using LSTM"
      ]
    },
    {
      "cell_type": "code",
      "metadata": {
        "id": "GndlteV4MpnI"
      },
      "source": [
        "import numpy as np\n",
        "import matplotlib.pyplot as plt\n",
        "import pandas as pd\n"
      ],
      "execution_count": null,
      "outputs": []
    },
    {
      "cell_type": "code",
      "metadata": {
        "id": "IWtwuHq1MppY"
      },
      "source": [
        "#Loading the dataset\n",
        "dataset_train = pd.read_csv(\"/content/NSE-TATAGLOBAL.csv\")"
      ],
      "execution_count": null,
      "outputs": []
    },
    {
      "cell_type": "code",
      "metadata": {
        "colab": {
          "base_uri": "https://localhost:8080/",
          "height": 197
        },
        "id": "M0M60rqUMprf",
        "outputId": "83e35d23-81dd-4944-c29c-a8c18d451407"
      },
      "source": [
        "dataset_train.head()"
      ],
      "execution_count": null,
      "outputs": [
        {
          "output_type": "execute_result",
          "data": {
            "text/html": [
              "<div>\n",
              "<style scoped>\n",
              "    .dataframe tbody tr th:only-of-type {\n",
              "        vertical-align: middle;\n",
              "    }\n",
              "\n",
              "    .dataframe tbody tr th {\n",
              "        vertical-align: top;\n",
              "    }\n",
              "\n",
              "    .dataframe thead th {\n",
              "        text-align: right;\n",
              "    }\n",
              "</style>\n",
              "<table border=\"1\" class=\"dataframe\">\n",
              "  <thead>\n",
              "    <tr style=\"text-align: right;\">\n",
              "      <th></th>\n",
              "      <th>Date</th>\n",
              "      <th>Open</th>\n",
              "      <th>High</th>\n",
              "      <th>Low</th>\n",
              "      <th>Last</th>\n",
              "      <th>Close</th>\n",
              "      <th>Total Trade Quantity</th>\n",
              "      <th>Turnover (Lacs)</th>\n",
              "    </tr>\n",
              "  </thead>\n",
              "  <tbody>\n",
              "    <tr>\n",
              "      <th>0</th>\n",
              "      <td>28-09-2018</td>\n",
              "      <td>234.05</td>\n",
              "      <td>235.95</td>\n",
              "      <td>230.20</td>\n",
              "      <td>233.50</td>\n",
              "      <td>233.75</td>\n",
              "      <td>3069914</td>\n",
              "      <td>7162.35</td>\n",
              "    </tr>\n",
              "    <tr>\n",
              "      <th>1</th>\n",
              "      <td>27-09-2018</td>\n",
              "      <td>234.55</td>\n",
              "      <td>236.80</td>\n",
              "      <td>231.10</td>\n",
              "      <td>233.80</td>\n",
              "      <td>233.25</td>\n",
              "      <td>5082859</td>\n",
              "      <td>11859.95</td>\n",
              "    </tr>\n",
              "    <tr>\n",
              "      <th>2</th>\n",
              "      <td>26-09-2018</td>\n",
              "      <td>240.00</td>\n",
              "      <td>240.00</td>\n",
              "      <td>232.50</td>\n",
              "      <td>235.00</td>\n",
              "      <td>234.25</td>\n",
              "      <td>2240909</td>\n",
              "      <td>5248.60</td>\n",
              "    </tr>\n",
              "    <tr>\n",
              "      <th>3</th>\n",
              "      <td>25-09-2018</td>\n",
              "      <td>233.30</td>\n",
              "      <td>236.75</td>\n",
              "      <td>232.00</td>\n",
              "      <td>236.25</td>\n",
              "      <td>236.10</td>\n",
              "      <td>2349368</td>\n",
              "      <td>5503.90</td>\n",
              "    </tr>\n",
              "    <tr>\n",
              "      <th>4</th>\n",
              "      <td>24-09-2018</td>\n",
              "      <td>233.55</td>\n",
              "      <td>239.20</td>\n",
              "      <td>230.75</td>\n",
              "      <td>234.00</td>\n",
              "      <td>233.30</td>\n",
              "      <td>3423509</td>\n",
              "      <td>7999.55</td>\n",
              "    </tr>\n",
              "  </tbody>\n",
              "</table>\n",
              "</div>"
            ],
            "text/plain": [
              "         Date    Open    High  ...   Close  Total Trade Quantity  Turnover (Lacs)\n",
              "0  28-09-2018  234.05  235.95  ...  233.75               3069914          7162.35\n",
              "1  27-09-2018  234.55  236.80  ...  233.25               5082859         11859.95\n",
              "2  26-09-2018  240.00  240.00  ...  234.25               2240909          5248.60\n",
              "3  25-09-2018  233.30  236.75  ...  236.10               2349368          5503.90\n",
              "4  24-09-2018  233.55  239.20  ...  233.30               3423509          7999.55\n",
              "\n",
              "[5 rows x 8 columns]"
            ]
          },
          "metadata": {
            "tags": []
          },
          "execution_count": 3
        }
      ]
    },
    {
      "cell_type": "code",
      "metadata": {
        "colab": {
          "base_uri": "https://localhost:8080/"
        },
        "id": "aJvlwdJtNx3B",
        "outputId": "84f89d92-a0ce-4384-db49-fa8307db61c2"
      },
      "source": [
        "dataset_train.shape"
      ],
      "execution_count": null,
      "outputs": [
        {
          "output_type": "execute_result",
          "data": {
            "text/plain": [
              "(2035, 8)"
            ]
          },
          "metadata": {
            "tags": []
          },
          "execution_count": 4
        }
      ]
    },
    {
      "cell_type": "code",
      "metadata": {
        "id": "jK-O2ZgoOZ-A"
      },
      "source": [
        "#choose column open for model\n",
        "training_set = dataset_train.iloc[:,1:2]\n"
      ],
      "execution_count": null,
      "outputs": []
    },
    {
      "cell_type": "code",
      "metadata": {
        "colab": {
          "base_uri": "https://localhost:8080/",
          "height": 197
        },
        "id": "tvVzpXJ9QVfG",
        "outputId": "2fb151a8-653c-4298-f6d7-475619fdfdd0"
      },
      "source": [
        "training_set.head()"
      ],
      "execution_count": null,
      "outputs": [
        {
          "output_type": "execute_result",
          "data": {
            "text/html": [
              "<div>\n",
              "<style scoped>\n",
              "    .dataframe tbody tr th:only-of-type {\n",
              "        vertical-align: middle;\n",
              "    }\n",
              "\n",
              "    .dataframe tbody tr th {\n",
              "        vertical-align: top;\n",
              "    }\n",
              "\n",
              "    .dataframe thead th {\n",
              "        text-align: right;\n",
              "    }\n",
              "</style>\n",
              "<table border=\"1\" class=\"dataframe\">\n",
              "  <thead>\n",
              "    <tr style=\"text-align: right;\">\n",
              "      <th></th>\n",
              "      <th>Open</th>\n",
              "    </tr>\n",
              "  </thead>\n",
              "  <tbody>\n",
              "    <tr>\n",
              "      <th>0</th>\n",
              "      <td>234.05</td>\n",
              "    </tr>\n",
              "    <tr>\n",
              "      <th>1</th>\n",
              "      <td>234.55</td>\n",
              "    </tr>\n",
              "    <tr>\n",
              "      <th>2</th>\n",
              "      <td>240.00</td>\n",
              "    </tr>\n",
              "    <tr>\n",
              "      <th>3</th>\n",
              "      <td>233.30</td>\n",
              "    </tr>\n",
              "    <tr>\n",
              "      <th>4</th>\n",
              "      <td>233.55</td>\n",
              "    </tr>\n",
              "  </tbody>\n",
              "</table>\n",
              "</div>"
            ],
            "text/plain": [
              "     Open\n",
              "0  234.05\n",
              "1  234.55\n",
              "2  240.00\n",
              "3  233.30\n",
              "4  233.55"
            ]
          },
          "metadata": {
            "tags": []
          },
          "execution_count": 8
        }
      ]
    },
    {
      "cell_type": "code",
      "metadata": {
        "id": "rjyKSn_cQkcN"
      },
      "source": [
        "#Convertthe dataframe into an numpy array\n",
        "training_set = training_set.values"
      ],
      "execution_count": null,
      "outputs": []
    },
    {
      "cell_type": "code",
      "metadata": {
        "colab": {
          "base_uri": "https://localhost:8080/"
        },
        "id": "FijbEwnFQ12V",
        "outputId": "b0af9589-3952-4675-aa41-8f23ca9f04f4"
      },
      "source": [
        "training_set.shape"
      ],
      "execution_count": null,
      "outputs": [
        {
          "output_type": "execute_result",
          "data": {
            "text/plain": [
              "(2035, 1)"
            ]
          },
          "metadata": {
            "tags": []
          },
          "execution_count": 10
        }
      ]
    },
    {
      "cell_type": "code",
      "metadata": {
        "colab": {
          "base_uri": "https://localhost:8080/"
        },
        "id": "c9PyecKAQ5qN",
        "outputId": "beccc6b5-3a39-4e7f-c8ff-740765d82d85"
      },
      "source": [
        "training_set[0:2]"
      ],
      "execution_count": null,
      "outputs": [
        {
          "output_type": "execute_result",
          "data": {
            "text/plain": [
              "array([[234.05],\n",
              "       [234.55]])"
            ]
          },
          "metadata": {
            "tags": []
          },
          "execution_count": 11
        }
      ]
    },
    {
      "cell_type": "code",
      "metadata": {
        "id": "IPkz8FYfQ-SE"
      },
      "source": [
        "#normalize these values\n",
        "from sklearn.preprocessing import MinMaxScaler\n",
        "scale = MinMaxScaler(feature_range= (0,1))\n",
        "training_set_scaled = scale.fit_transform(training_set)\n"
      ],
      "execution_count": null,
      "outputs": []
    },
    {
      "cell_type": "code",
      "metadata": {
        "colab": {
          "base_uri": "https://localhost:8080/"
        },
        "id": "Wv82EoiyRmh0",
        "outputId": "3ba1aeb6-b03a-459f-87f1-67396db3cd3f"
      },
      "source": [
        "training_set_scaled[0:2]"
      ],
      "execution_count": null,
      "outputs": [
        {
          "output_type": "execute_result",
          "data": {
            "text/plain": [
              "array([[0.6202352 ],\n",
              "       [0.62226277]])"
            ]
          },
          "metadata": {
            "tags": []
          },
          "execution_count": 15
        }
      ]
    },
    {
      "cell_type": "code",
      "metadata": {
        "colab": {
          "base_uri": "https://localhost:8080/"
        },
        "id": "VEkcX80TR6xT",
        "outputId": "4cb83fdc-6866-465c-be20-2fb3d5c0ccf9"
      },
      "source": [
        "training_set_scaled.shape"
      ],
      "execution_count": null,
      "outputs": [
        {
          "output_type": "execute_result",
          "data": {
            "text/plain": [
              "(2035, 1)"
            ]
          },
          "metadata": {
            "tags": []
          },
          "execution_count": 16
        }
      ]
    },
    {
      "cell_type": "code",
      "metadata": {
        "id": "Ua8MKWtxR_iq"
      },
      "source": [
        "#Converting the training data into timestamps\n",
        "x_train = []\n",
        "y_train = []\n",
        "#create data in 60 timestamps\n",
        "for i in range(60,2035):\n",
        "  x_train.append(training_set_scaled[i-60:i,0])\n",
        "  y_train.append(training_set_scaled[i,0])\n",
        "x_train,y_train = np.array(x_train), np.array(y_train)                                  "
      ],
      "execution_count": null,
      "outputs": []
    },
    {
      "cell_type": "code",
      "metadata": {
        "colab": {
          "base_uri": "https://localhost:8080/"
        },
        "id": "USXa2gKZTp2y",
        "outputId": "3facf918-1a02-4854-bce5-f238a735c4a5"
      },
      "source": [
        "x_train.shape"
      ],
      "execution_count": null,
      "outputs": [
        {
          "output_type": "execute_result",
          "data": {
            "text/plain": [
              "(1975, 60)"
            ]
          },
          "metadata": {
            "tags": []
          },
          "execution_count": 28
        }
      ]
    },
    {
      "cell_type": "code",
      "metadata": {
        "colab": {
          "base_uri": "https://localhost:8080/"
        },
        "id": "uFs5adrHTp5O",
        "outputId": "07d95f4e-4208-40ae-e02b-7bbf8af5b4c8"
      },
      "source": [
        "y_train.shape"
      ],
      "execution_count": null,
      "outputs": [
        {
          "output_type": "execute_result",
          "data": {
            "text/plain": [
              "(1975,)"
            ]
          },
          "metadata": {
            "tags": []
          },
          "execution_count": 29
        }
      ]
    },
    {
      "cell_type": "code",
      "metadata": {
        "colab": {
          "base_uri": "https://localhost:8080/"
        },
        "id": "hvxjyuBhT_uR",
        "outputId": "df159154-4570-4c3f-e59e-cf3c0008d50d"
      },
      "source": [
        "#convert the timestampsto 3D array for giving the input to LSTM\n",
        "x_train = np.reshape(x_train, (x_train.shape[0],x_train.shape[1],1))\n",
        "x_train.shape\n"
      ],
      "execution_count": null,
      "outputs": [
        {
          "output_type": "execute_result",
          "data": {
            "text/plain": [
              "(1975, 60, 1)"
            ]
          },
          "metadata": {
            "tags": []
          },
          "execution_count": 30
        }
      ]
    },
    {
      "cell_type": "code",
      "metadata": {
        "id": "7husXqaaU-BQ"
      },
      "source": [
        "from keras.models  import Sequential\n",
        "from keras.layers import Dense,LSTM, Dropout"
      ],
      "execution_count": null,
      "outputs": []
    },
    {
      "cell_type": "code",
      "metadata": {
        "id": "4eqtHhJdVRDX"
      },
      "source": [
        "model = Sequential()\n",
        "model.add(LSTM(units = 50, return_sequences= True, input_shape = (x_train.shape[1], 1)))\n",
        "model.add(Dropout(0.2))\n",
        "\n",
        "model = Sequential()\n",
        "model.add(LSTM(units = 50, return_sequences= True))\n",
        "model.add(Dropout(0.2))\n",
        "\n",
        "model = Sequential()\n",
        "model.add(LSTM(units = 50, return_sequences= True))\n",
        "model.add(Dropout(0.2))\n",
        "\n",
        "model = Sequential()\n",
        "model.add(LSTM(units = 50))\n",
        "model.add(Dropout(0.2))\n",
        "\n",
        "model.add(Dense(units = 1))\n"
      ],
      "execution_count": null,
      "outputs": []
    },
    {
      "cell_type": "code",
      "metadata": {
        "id": "D4uHMS0CWV2Y"
      },
      "source": [
        "#compile the model\n",
        "model.compile(optimizer = 'adam', loss='mean_squared_error')    #we have real value so we use mean square error"
      ],
      "execution_count": null,
      "outputs": []
    },
    {
      "cell_type": "code",
      "metadata": {
        "colab": {
          "base_uri": "https://localhost:8080/"
        },
        "id": "7JW2WPoTXVys",
        "outputId": "2e17f1bd-5f8f-40c6-8b6d-c5dc961368a0"
      },
      "source": [
        "#fit the training data\n",
        "model.fit(x_train, y_train, epochs = 10, batch_size = 32)"
      ],
      "execution_count": null,
      "outputs": [
        {
          "output_type": "stream",
          "text": [
            "Epoch 1/10\n",
            "62/62 [==============================] - 4s 26ms/step - loss: 0.0360\n",
            "Epoch 2/10\n",
            "62/62 [==============================] - 2s 28ms/step - loss: 0.0023\n",
            "Epoch 3/10\n",
            "62/62 [==============================] - 2s 28ms/step - loss: 0.0017\n",
            "Epoch 4/10\n",
            "62/62 [==============================] - 2s 28ms/step - loss: 0.0015\n",
            "Epoch 5/10\n",
            "62/62 [==============================] - 2s 27ms/step - loss: 0.0015\n",
            "Epoch 6/10\n",
            "62/62 [==============================] - 2s 28ms/step - loss: 0.0015\n",
            "Epoch 7/10\n",
            "62/62 [==============================] - 2s 28ms/step - loss: 0.0013\n",
            "Epoch 8/10\n",
            "62/62 [==============================] - 2s 28ms/step - loss: 0.0012\n",
            "Epoch 9/10\n",
            "62/62 [==============================] - 2s 28ms/step - loss: 0.0012\n",
            "Epoch 10/10\n",
            "62/62 [==============================] - 2s 28ms/step - loss: 0.0011\n"
          ],
          "name": "stdout"
        },
        {
          "output_type": "execute_result",
          "data": {
            "text/plain": [
              "<tensorflow.python.keras.callbacks.History at 0x7fcf513b5690>"
            ]
          },
          "metadata": {
            "tags": []
          },
          "execution_count": 64
        }
      ]
    },
    {
      "cell_type": "code",
      "metadata": {
        "id": "EUVdhFSYXpiD"
      },
      "source": [
        "#prediction\n",
        "dataset_test = pd.read_csv(\"/content/tatatest.csv\")"
      ],
      "execution_count": null,
      "outputs": []
    },
    {
      "cell_type": "code",
      "metadata": {
        "colab": {
          "base_uri": "https://localhost:8080/",
          "height": 197
        },
        "id": "eCBlxa8JYAor",
        "outputId": "ba53e262-c881-46ab-a1ac-b37be6100692"
      },
      "source": [
        "dataset_test.head()"
      ],
      "execution_count": null,
      "outputs": [
        {
          "output_type": "execute_result",
          "data": {
            "text/html": [
              "<div>\n",
              "<style scoped>\n",
              "    .dataframe tbody tr th:only-of-type {\n",
              "        vertical-align: middle;\n",
              "    }\n",
              "\n",
              "    .dataframe tbody tr th {\n",
              "        vertical-align: top;\n",
              "    }\n",
              "\n",
              "    .dataframe thead th {\n",
              "        text-align: right;\n",
              "    }\n",
              "</style>\n",
              "<table border=\"1\" class=\"dataframe\">\n",
              "  <thead>\n",
              "    <tr style=\"text-align: right;\">\n",
              "      <th></th>\n",
              "      <th>Date</th>\n",
              "      <th>Open</th>\n",
              "      <th>High</th>\n",
              "      <th>Low</th>\n",
              "      <th>Last</th>\n",
              "      <th>Close</th>\n",
              "      <th>Total Trade Quantity</th>\n",
              "      <th>Turnover (Lacs)</th>\n",
              "    </tr>\n",
              "  </thead>\n",
              "  <tbody>\n",
              "    <tr>\n",
              "      <th>0</th>\n",
              "      <td>24-10-2018</td>\n",
              "      <td>220.10</td>\n",
              "      <td>221.25</td>\n",
              "      <td>217.05</td>\n",
              "      <td>219.55</td>\n",
              "      <td>219.80</td>\n",
              "      <td>2171956</td>\n",
              "      <td>4771.34</td>\n",
              "    </tr>\n",
              "    <tr>\n",
              "      <th>1</th>\n",
              "      <td>23-10-2018</td>\n",
              "      <td>221.10</td>\n",
              "      <td>222.20</td>\n",
              "      <td>214.75</td>\n",
              "      <td>219.55</td>\n",
              "      <td>218.30</td>\n",
              "      <td>1416279</td>\n",
              "      <td>3092.15</td>\n",
              "    </tr>\n",
              "    <tr>\n",
              "      <th>2</th>\n",
              "      <td>22-10-2018</td>\n",
              "      <td>229.45</td>\n",
              "      <td>231.60</td>\n",
              "      <td>222.00</td>\n",
              "      <td>223.05</td>\n",
              "      <td>223.25</td>\n",
              "      <td>3529711</td>\n",
              "      <td>8028.37</td>\n",
              "    </tr>\n",
              "    <tr>\n",
              "      <th>3</th>\n",
              "      <td>19-10-2018</td>\n",
              "      <td>230.30</td>\n",
              "      <td>232.70</td>\n",
              "      <td>225.50</td>\n",
              "      <td>227.75</td>\n",
              "      <td>227.20</td>\n",
              "      <td>1527904</td>\n",
              "      <td>3490.78</td>\n",
              "    </tr>\n",
              "    <tr>\n",
              "      <th>4</th>\n",
              "      <td>17-10-2018</td>\n",
              "      <td>237.70</td>\n",
              "      <td>240.80</td>\n",
              "      <td>229.45</td>\n",
              "      <td>231.30</td>\n",
              "      <td>231.10</td>\n",
              "      <td>2945914</td>\n",
              "      <td>6961.65</td>\n",
              "    </tr>\n",
              "  </tbody>\n",
              "</table>\n",
              "</div>"
            ],
            "text/plain": [
              "         Date    Open    High  ...   Close  Total Trade Quantity  Turnover (Lacs)\n",
              "0  24-10-2018  220.10  221.25  ...  219.80               2171956          4771.34\n",
              "1  23-10-2018  221.10  222.20  ...  218.30               1416279          3092.15\n",
              "2  22-10-2018  229.45  231.60  ...  223.25               3529711          8028.37\n",
              "3  19-10-2018  230.30  232.70  ...  227.20               1527904          3490.78\n",
              "4  17-10-2018  237.70  240.80  ...  231.10               2945914          6961.65\n",
              "\n",
              "[5 rows x 8 columns]"
            ]
          },
          "metadata": {
            "tags": []
          },
          "execution_count": 92
        }
      ]
    },
    {
      "cell_type": "code",
      "metadata": {
        "id": "q5vD8eqnYCmC"
      },
      "source": [
        "real_stock_price = dataset_test.iloc[:,1:2].values\n"
      ],
      "execution_count": null,
      "outputs": []
    },
    {
      "cell_type": "code",
      "metadata": {
        "colab": {
          "base_uri": "https://localhost:8080/"
        },
        "id": "5i5_zz6mYXza",
        "outputId": "6f778f2a-2699-4063-e4c3-7d26b77b5c59"
      },
      "source": [
        "real_stock_price.shape"
      ],
      "execution_count": null,
      "outputs": [
        {
          "output_type": "execute_result",
          "data": {
            "text/plain": [
              "(16, 1)"
            ]
          },
          "metadata": {
            "tags": []
          },
          "execution_count": 94
        }
      ]
    },
    {
      "cell_type": "code",
      "metadata": {
        "colab": {
          "base_uri": "https://localhost:8080/"
        },
        "id": "EdzoYvGsYcca",
        "outputId": "3217dd9b-b303-435a-8f39-101a7172e76e"
      },
      "source": [
        "real_stock_price[0]"
      ],
      "execution_count": null,
      "outputs": [
        {
          "output_type": "execute_result",
          "data": {
            "text/plain": [
              "array([220.1])"
            ]
          },
          "metadata": {
            "tags": []
          },
          "execution_count": 95
        }
      ]
    },
    {
      "cell_type": "code",
      "metadata": {
        "id": "UfHmykgRYwCa"
      },
      "source": [
        "#concatenate train and test samples\n",
        "dataset_total = pd.concat((dataset_train['Open'], dataset_test['Open']), axis = 0)"
      ],
      "execution_count": null,
      "outputs": []
    },
    {
      "cell_type": "code",
      "metadata": {
        "colab": {
          "base_uri": "https://localhost:8080/"
        },
        "id": "Z-bvIZ-RZFgZ",
        "outputId": "4d1cc5fb-0ea2-4ce9-8318-81ed807cce8c"
      },
      "source": [
        "dataset_total.shape"
      ],
      "execution_count": null,
      "outputs": [
        {
          "output_type": "execute_result",
          "data": {
            "text/plain": [
              "(2051,)"
            ]
          },
          "metadata": {
            "tags": []
          },
          "execution_count": 97
        }
      ]
    },
    {
      "cell_type": "code",
      "metadata": {
        "id": "2S0NjeTLZo3g"
      },
      "source": [
        "inputs = dataset_total[len(dataset_train)-60:].values"
      ],
      "execution_count": null,
      "outputs": []
    },
    {
      "cell_type": "code",
      "metadata": {
        "colab": {
          "base_uri": "https://localhost:8080/"
        },
        "id": "nf1ggvjHZ4V3",
        "outputId": "0868bc23-9716-4cda-b0c0-4ee64690c5c5"
      },
      "source": [
        "inputs.shape"
      ],
      "execution_count": null,
      "outputs": [
        {
          "output_type": "execute_result",
          "data": {
            "text/plain": [
              "(76,)"
            ]
          },
          "metadata": {
            "tags": []
          },
          "execution_count": 99
        }
      ]
    },
    {
      "cell_type": "code",
      "metadata": {
        "id": "gaqVGLlWZ63_"
      },
      "source": [
        "inputs = inputs.reshape(-1,1)"
      ],
      "execution_count": null,
      "outputs": []
    },
    {
      "cell_type": "code",
      "metadata": {
        "colab": {
          "base_uri": "https://localhost:8080/"
        },
        "id": "zzq-FoiwaAUn",
        "outputId": "e7ce91a3-9b61-4f9c-cc01-ea689d8389cc"
      },
      "source": [
        "inputs.shape"
      ],
      "execution_count": null,
      "outputs": [
        {
          "output_type": "execute_result",
          "data": {
            "text/plain": [
              "(76, 1)"
            ]
          },
          "metadata": {
            "tags": []
          },
          "execution_count": 101
        }
      ]
    },
    {
      "cell_type": "code",
      "metadata": {
        "id": "DIfdC7V_aCGX"
      },
      "source": [
        "inputs = scale.transform(inputs)\n"
      ],
      "execution_count": null,
      "outputs": []
    },
    {
      "cell_type": "code",
      "metadata": {
        "id": "TuqH7KQcaNiX"
      },
      "source": [
        "x_test = []\n",
        "for i in range(60,76):\n",
        "  x_test.append(inputs[i-60:i,0])\n",
        "x_test =np.array(x_test)\n",
        "x_test = np.reshape(x_test, (x_test.shape[0], x_test.shape[1],1))\n",
        "\n"
      ],
      "execution_count": null,
      "outputs": []
    },
    {
      "cell_type": "code",
      "metadata": {
        "colab": {
          "base_uri": "https://localhost:8080/"
        },
        "id": "0RD7mj73aYc_",
        "outputId": "714c417e-8dc9-4532-c5ff-6a31484fe0ae"
      },
      "source": [
        "x_test.shape"
      ],
      "execution_count": null,
      "outputs": [
        {
          "output_type": "execute_result",
          "data": {
            "text/plain": [
              "(16, 60, 1)"
            ]
          },
          "metadata": {
            "tags": []
          },
          "execution_count": 104
        }
      ]
    },
    {
      "cell_type": "code",
      "metadata": {
        "id": "uMIW2Dkda9EO"
      },
      "source": [
        "predicted_stock_price = model.predict(x_test)"
      ],
      "execution_count": null,
      "outputs": []
    },
    {
      "cell_type": "code",
      "metadata": {
        "colab": {
          "base_uri": "https://localhost:8080/"
        },
        "id": "fHccN3bKgfw5",
        "outputId": "1e008d81-a597-49d4-8767-bbcfd1dc502d"
      },
      "source": [
        "predicted_stock_price.shape"
      ],
      "execution_count": null,
      "outputs": [
        {
          "output_type": "execute_result",
          "data": {
            "text/plain": [
              "(16, 1)"
            ]
          },
          "metadata": {
            "tags": []
          },
          "execution_count": 108
        }
      ]
    },
    {
      "cell_type": "code",
      "metadata": {
        "id": "P2Ge7_sLbEfu"
      },
      "source": [
        "#unnnormalise\n",
        "predicted_stock_price = scale.inverse_transform(predicted_stock_price)"
      ],
      "execution_count": null,
      "outputs": []
    },
    {
      "cell_type": "code",
      "metadata": {
        "colab": {
          "base_uri": "https://localhost:8080/",
          "height": 312
        },
        "id": "YqEVKtXIgUsP",
        "outputId": "426bc347-7f59-434b-a490-f7021df9700e"
      },
      "source": [
        "#plot test and predict\n",
        "plt.plot(real_stock_price, color = 'black', label ='TATA Stock Price')\n",
        "plt.plot(predicted_stock_price, color = 'green', label ='Predicted TATAstock price')\n",
        "plt.title('TATA stock price')\n",
        "plt.xlabel('stock price')\n",
        "plt.xlabel('time')\n",
        "plt.legend()"
      ],
      "execution_count": null,
      "outputs": [
        {
          "output_type": "execute_result",
          "data": {
            "text/plain": [
              "<matplotlib.legend.Legend at 0x7fcf4c0cf9d0>"
            ]
          },
          "metadata": {
            "tags": []
          },
          "execution_count": 114
        },
        {
          "output_type": "display_data",
          "data": {
            "image/png": "[encoded data removed]",
            "text/plain": [
              "<Figure size 432x288 with 1 Axes>"
            ]
          },
          "metadata": {
            "tags": [],
            "needs_background": "light"
          }
        }
      ]
    },
    {
      "cell_type": "code",
      "metadata": {
        "id": "1PhbuTPyhJwB"
      },
      "source": [
        ""
      ],
      "execution_count": null,
      "outputs": []
    }
  ]
}