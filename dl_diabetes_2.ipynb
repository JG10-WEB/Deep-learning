{
  "nbformat": 4,
  "nbformat_minor": 0,
  "metadata": {
    "colab": {
      "name": "Deep Learning Exp 3 C017.ipynb",
      "provenance": [],
      "collapsed_sections": []
    },
    "kernelspec": {
      "name": "python3",
      "display_name": "Python 3"
    }
  },
  "cells": [
    {
      "cell_type": "markdown",
      "metadata": {
        "id": "LClSzlr-txKX"
      },
      "source": [
        "\n",
        "Name: Jay Goyal\n",
        "\n",
        "Experiment: 3\n",
        "\n",
        "Roll No: C017\n",
        "\n",
        "Btech EXTC\n",
        "\n",
        "Third Year\n",
        "\n",
        "Semester 6"
      ]
    },
    {
      "cell_type": "code",
      "metadata": {
        "id": "i34SNrh5t0cw"
      },
      "source": [
        "import numpy as np\n",
        "import matplotlib.pyplot as plt\n",
        "import pandas as pd\n",
        "import tensorflow as tf"
      ],
      "execution_count": null,
      "outputs": []
    },
    {
      "cell_type": "code",
      "metadata": {
        "id": "4-lmSAqst33n",
        "colab": {
          "resources": {
            "http://localhost:8080/nbextensions/google.colab/files.js": {
              "data": "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",
              "ok": true,
              "headers": [
                [
                  "content-type",
                  "application/javascript"
                ]
              ],
              "status": 200,
              "status_text": ""
            }
          },
          "base_uri": "https://localhost:8080/",
          "height": 72
        },
        "outputId": "2884065f-9bcf-4225-c60d-66a11a4e4736"
      },
      "source": [
        "from google.colab import files\n",
        "uploaded = files.upload()"
      ],
      "execution_count": null,
      "outputs": [
        {
          "output_type": "display_data",
          "data": {
            "text/html": [
              "\n",
              "     <input type=\"file\" id=\"files-b6bf2839-c949-4bd8-b348-34fef1b3506f\" name=\"files[]\" multiple disabled\n",
              "        style=\"border:none\" />\n",
              "     <output id=\"result-b6bf2839-c949-4bd8-b348-34fef1b3506f\">\n",
              "      Upload widget is only available when the cell has been executed in the\n",
              "      current browser session. Please rerun this cell to enable.\n",
              "      </output>\n",
              "      <script src=\"/nbextensions/google.colab/files.js\"></script> "
            ],
            "text/plain": [
              "<IPython.core.display.HTML object>"
            ]
          },
          "metadata": {
            "tags": []
          }
        },
        {
          "output_type": "stream",
          "text": [
            "Saving pima-indians-diabetes.csv to pima-indians-diabetes.csv\n"
          ],
          "name": "stdout"
        }
      ]
    },
    {
      "cell_type": "code",
      "metadata": {
        "id": "TBLmr_dMt36X"
      },
      "source": [
        "df = pd.read_csv('pima-indians-diabetes.csv')"
      ],
      "execution_count": null,
      "outputs": []
    },
    {
      "cell_type": "code",
      "metadata": {
        "colab": {
          "base_uri": "https://localhost:8080/",
          "height": 419
        },
        "id": "rIt65WaJyoVm",
        "outputId": "3a611a6b-108e-4e8c-f20d-8b2b0cab65b5"
      },
      "source": [
        "df"
      ],
      "execution_count": null,
      "outputs": [
        {
          "output_type": "execute_result",
          "data": {
            "text/html": [
              "<div>\n",
              "<style scoped>\n",
              "    .dataframe tbody tr th:only-of-type {\n",
              "        vertical-align: middle;\n",
              "    }\n",
              "\n",
              "    .dataframe tbody tr th {\n",
              "        vertical-align: top;\n",
              "    }\n",
              "\n",
              "    .dataframe thead th {\n",
              "        text-align: right;\n",
              "    }\n",
              "</style>\n",
              "<table border=\"1\" class=\"dataframe\">\n",
              "  <thead>\n",
              "    <tr style=\"text-align: right;\">\n",
              "      <th></th>\n",
              "      <th>6</th>\n",
              "      <th>148</th>\n",
              "      <th>72</th>\n",
              "      <th>35</th>\n",
              "      <th>0</th>\n",
              "      <th>33.6</th>\n",
              "      <th>0.627</th>\n",
              "      <th>50</th>\n",
              "      <th>1</th>\n",
              "    </tr>\n",
              "  </thead>\n",
              "  <tbody>\n",
              "    <tr>\n",
              "      <th>0</th>\n",
              "      <td>1</td>\n",
              "      <td>85</td>\n",
              "      <td>66</td>\n",
              "      <td>29</td>\n",
              "      <td>0</td>\n",
              "      <td>26.6</td>\n",
              "      <td>0.351</td>\n",
              "      <td>31</td>\n",
              "      <td>0</td>\n",
              "    </tr>\n",
              "    <tr>\n",
              "      <th>1</th>\n",
              "      <td>8</td>\n",
              "      <td>183</td>\n",
              "      <td>64</td>\n",
              "      <td>0</td>\n",
              "      <td>0</td>\n",
              "      <td>23.3</td>\n",
              "      <td>0.672</td>\n",
              "      <td>32</td>\n",
              "      <td>1</td>\n",
              "    </tr>\n",
              "    <tr>\n",
              "      <th>2</th>\n",
              "      <td>1</td>\n",
              "      <td>89</td>\n",
              "      <td>66</td>\n",
              "      <td>23</td>\n",
              "      <td>94</td>\n",
              "      <td>28.1</td>\n",
              "      <td>0.167</td>\n",
              "      <td>21</td>\n",
              "      <td>0</td>\n",
              "    </tr>\n",
              "    <tr>\n",
              "      <th>3</th>\n",
              "      <td>0</td>\n",
              "      <td>137</td>\n",
              "      <td>40</td>\n",
              "      <td>35</td>\n",
              "      <td>168</td>\n",
              "      <td>43.1</td>\n",
              "      <td>2.288</td>\n",
              "      <td>33</td>\n",
              "      <td>1</td>\n",
              "    </tr>\n",
              "    <tr>\n",
              "      <th>4</th>\n",
              "      <td>5</td>\n",
              "      <td>116</td>\n",
              "      <td>74</td>\n",
              "      <td>0</td>\n",
              "      <td>0</td>\n",
              "      <td>25.6</td>\n",
              "      <td>0.201</td>\n",
              "      <td>30</td>\n",
              "      <td>0</td>\n",
              "    </tr>\n",
              "    <tr>\n",
              "      <th>...</th>\n",
              "      <td>...</td>\n",
              "      <td>...</td>\n",
              "      <td>...</td>\n",
              "      <td>...</td>\n",
              "      <td>...</td>\n",
              "      <td>...</td>\n",
              "      <td>...</td>\n",
              "      <td>...</td>\n",
              "      <td>...</td>\n",
              "    </tr>\n",
              "    <tr>\n",
              "      <th>762</th>\n",
              "      <td>10</td>\n",
              "      <td>101</td>\n",
              "      <td>76</td>\n",
              "      <td>48</td>\n",
              "      <td>180</td>\n",
              "      <td>32.9</td>\n",
              "      <td>0.171</td>\n",
              "      <td>63</td>\n",
              "      <td>0</td>\n",
              "    </tr>\n",
              "    <tr>\n",
              "      <th>763</th>\n",
              "      <td>2</td>\n",
              "      <td>122</td>\n",
              "      <td>70</td>\n",
              "      <td>27</td>\n",
              "      <td>0</td>\n",
              "      <td>36.8</td>\n",
              "      <td>0.340</td>\n",
              "      <td>27</td>\n",
              "      <td>0</td>\n",
              "    </tr>\n",
              "    <tr>\n",
              "      <th>764</th>\n",
              "      <td>5</td>\n",
              "      <td>121</td>\n",
              "      <td>72</td>\n",
              "      <td>23</td>\n",
              "      <td>112</td>\n",
              "      <td>26.2</td>\n",
              "      <td>0.245</td>\n",
              "      <td>30</td>\n",
              "      <td>0</td>\n",
              "    </tr>\n",
              "    <tr>\n",
              "      <th>765</th>\n",
              "      <td>1</td>\n",
              "      <td>126</td>\n",
              "      <td>60</td>\n",
              "      <td>0</td>\n",
              "      <td>0</td>\n",
              "      <td>30.1</td>\n",
              "      <td>0.349</td>\n",
              "      <td>47</td>\n",
              "      <td>1</td>\n",
              "    </tr>\n",
              "    <tr>\n",
              "      <th>766</th>\n",
              "      <td>1</td>\n",
              "      <td>93</td>\n",
              "      <td>70</td>\n",
              "      <td>31</td>\n",
              "      <td>0</td>\n",
              "      <td>30.4</td>\n",
              "      <td>0.315</td>\n",
              "      <td>23</td>\n",
              "      <td>0</td>\n",
              "    </tr>\n",
              "  </tbody>\n",
              "</table>\n",
              "<p>767 rows × 9 columns</p>\n",
              "</div>"
            ],
            "text/plain": [
              "      6  148  72  35    0  33.6  0.627  50  1\n",
              "0     1   85  66  29    0  26.6  0.351  31  0\n",
              "1     8  183  64   0    0  23.3  0.672  32  1\n",
              "2     1   89  66  23   94  28.1  0.167  21  0\n",
              "3     0  137  40  35  168  43.1  2.288  33  1\n",
              "4     5  116  74   0    0  25.6  0.201  30  0\n",
              "..   ..  ...  ..  ..  ...   ...    ...  .. ..\n",
              "762  10  101  76  48  180  32.9  0.171  63  0\n",
              "763   2  122  70  27    0  36.8  0.340  27  0\n",
              "764   5  121  72  23  112  26.2  0.245  30  0\n",
              "765   1  126  60   0    0  30.1  0.349  47  1\n",
              "766   1   93  70  31    0  30.4  0.315  23  0\n",
              "\n",
              "[767 rows x 9 columns]"
            ]
          },
          "metadata": {
            "tags": []
          },
          "execution_count": 4
        }
      ]
    },
    {
      "cell_type": "code",
      "metadata": {
        "colab": {
          "base_uri": "https://localhost:8080/"
        },
        "id": "4d_HyA_r0G8q",
        "outputId": "6dcfca11-219e-4e30-b93b-bfa29ec8e462"
      },
      "source": [
        "from numpy import loadtxt\n",
        "dataset = loadtxt('pima-indians-diabetes.csv',delimiter = ',')\n",
        "dataset"
      ],
      "execution_count": null,
      "outputs": [
        {
          "output_type": "execute_result",
          "data": {
            "text/plain": [
              "array([[  6.   , 148.   ,  72.   , ...,   0.627,  50.   ,   1.   ],\n",
              "       [  1.   ,  85.   ,  66.   , ...,   0.351,  31.   ,   0.   ],\n",
              "       [  8.   , 183.   ,  64.   , ...,   0.672,  32.   ,   1.   ],\n",
              "       ...,\n",
              "       [  5.   , 121.   ,  72.   , ...,   0.245,  30.   ,   0.   ],\n",
              "       [  1.   , 126.   ,  60.   , ...,   0.349,  47.   ,   1.   ],\n",
              "       [  1.   ,  93.   ,  70.   , ...,   0.315,  23.   ,   0.   ]])"
            ]
          },
          "metadata": {
            "tags": []
          },
          "execution_count": 5
        }
      ]
    },
    {
      "cell_type": "code",
      "metadata": {
        "id": "4DCL6u3AypBh"
      },
      "source": [
        "#Splitting the data set into input (X) and output (y) variables \n",
        "X = dataset[:,0:8]\n",
        "y = dataset[:,8]"
      ],
      "execution_count": null,
      "outputs": []
    },
    {
      "cell_type": "code",
      "metadata": {
        "colab": {
          "base_uri": "https://localhost:8080/"
        },
        "id": "Wk4EssRf0ph1",
        "outputId": "e574026f-6b58-4d4f-f915-c4cb27b9c3b4"
      },
      "source": [
        "X.shape"
      ],
      "execution_count": null,
      "outputs": [
        {
          "output_type": "execute_result",
          "data": {
            "text/plain": [
              "(768, 8)"
            ]
          },
          "metadata": {
            "tags": []
          },
          "execution_count": 7
        }
      ]
    },
    {
      "cell_type": "code",
      "metadata": {
        "id": "Qco9o9pO1X-K"
      },
      "source": [
        "#splittimg the data into train and test\n",
        "from sklearn.model_selection import train_test_split\n",
        "X_train,X_test,y_train,y_test = train_test_split(X,y,test_size = 0.2,random_state = 4)"
      ],
      "execution_count": null,
      "outputs": []
    },
    {
      "cell_type": "code",
      "metadata": {
        "id": "S6UFCvri1xux"
      },
      "source": [
        "from keras.models import Sequential\n",
        "from keras.layers import Dense"
      ],
      "execution_count": null,
      "outputs": []
    },
    {
      "cell_type": "code",
      "metadata": {
        "id": "-SsPn-R_-I4j"
      },
      "source": [
        "#defining the deep neural network\n",
        "model = Sequential()\n",
        "model.add(Dense(12, input_dim =8, activation ='relu'))\n",
        "model.add(Dense(8, activation ='relu'))\n",
        "model.add(Dense(1, activation ='sigmoid'))"
      ],
      "execution_count": null,
      "outputs": []
    },
    {
      "cell_type": "code",
      "metadata": {
        "id": "2MgKcojC7C28"
      },
      "source": [
        "#compiling the model\n",
        "model.compile(loss = 'binary_crossentropy', optimizer = 'adam', metrics = ['accuracy'])\n"
      ],
      "execution_count": null,
      "outputs": []
    },
    {
      "cell_type": "code",
      "metadata": {
        "colab": {
          "base_uri": "https://localhost:8080/"
        },
        "id": "hWtV3U8u6lAH",
        "outputId": "dab19bde-0aeb-493c-be6e-88cd1876df85"
      },
      "source": [
        "#fit the model\n",
        "model.fit(X_train, y_train, epochs = 150 ,batch_size = 10)"
      ],
      "execution_count": null,
      "outputs": [
        {
          "output_type": "stream",
          "text": [
            "Epoch 1/150\n",
            "62/62 [==============================] - 0s 1ms/step - loss: 3.1130 - accuracy: 0.5737\n",
            "Epoch 2/150\n",
            "62/62 [==============================] - 0s 1ms/step - loss: 1.5014 - accuracy: 0.5867\n",
            "Epoch 3/150\n",
            "62/62 [==============================] - 0s 1ms/step - loss: 1.4121 - accuracy: 0.5623\n",
            "Epoch 4/150\n",
            "62/62 [==============================] - 0s 1ms/step - loss: 1.1284 - accuracy: 0.5377\n",
            "Epoch 5/150\n",
            "62/62 [==============================] - 0s 983us/step - loss: 1.0091 - accuracy: 0.5996\n",
            "Epoch 6/150\n",
            "62/62 [==============================] - 0s 1ms/step - loss: 0.8920 - accuracy: 0.5812\n",
            "Epoch 7/150\n",
            "62/62 [==============================] - 0s 1ms/step - loss: 0.8368 - accuracy: 0.6060\n",
            "Epoch 8/150\n",
            "62/62 [==============================] - 0s 1ms/step - loss: 0.8571 - accuracy: 0.5851\n",
            "Epoch 9/150\n",
            "62/62 [==============================] - 0s 1ms/step - loss: 0.7762 - accuracy: 0.5888\n",
            "Epoch 10/150\n",
            "62/62 [==============================] - 0s 1ms/step - loss: 0.6960 - accuracy: 0.6172\n",
            "Epoch 11/150\n",
            "62/62 [==============================] - 0s 1ms/step - loss: 0.6834 - accuracy: 0.6518\n",
            "Epoch 12/150\n",
            "62/62 [==============================] - 0s 1ms/step - loss: 0.7157 - accuracy: 0.6120\n",
            "Epoch 13/150\n",
            "62/62 [==============================] - 0s 1ms/step - loss: 0.7401 - accuracy: 0.6243\n",
            "Epoch 14/150\n",
            "62/62 [==============================] - 0s 1ms/step - loss: 0.6614 - accuracy: 0.6347\n",
            "Epoch 15/150\n",
            "62/62 [==============================] - 0s 1ms/step - loss: 0.6439 - accuracy: 0.6571\n",
            "Epoch 16/150\n",
            "62/62 [==============================] - 0s 1ms/step - loss: 0.6224 - accuracy: 0.6935\n",
            "Epoch 17/150\n",
            "62/62 [==============================] - 0s 1ms/step - loss: 0.6203 - accuracy: 0.6702\n",
            "Epoch 18/150\n",
            "62/62 [==============================] - 0s 1ms/step - loss: 0.6193 - accuracy: 0.6793\n",
            "Epoch 19/150\n",
            "62/62 [==============================] - 0s 1ms/step - loss: 0.6790 - accuracy: 0.6695\n",
            "Epoch 20/150\n",
            "62/62 [==============================] - 0s 1ms/step - loss: 0.6575 - accuracy: 0.6414\n",
            "Epoch 21/150\n",
            "62/62 [==============================] - 0s 1ms/step - loss: 0.6495 - accuracy: 0.6657\n",
            "Epoch 22/150\n",
            "62/62 [==============================] - 0s 1ms/step - loss: 0.6418 - accuracy: 0.6571\n",
            "Epoch 23/150\n",
            "62/62 [==============================] - 0s 1ms/step - loss: 0.5995 - accuracy: 0.6573\n",
            "Epoch 24/150\n",
            "62/62 [==============================] - 0s 1ms/step - loss: 0.6458 - accuracy: 0.6534\n",
            "Epoch 25/150\n",
            "62/62 [==============================] - 0s 1ms/step - loss: 0.6203 - accuracy: 0.6622\n",
            "Epoch 26/150\n",
            "62/62 [==============================] - 0s 1ms/step - loss: 0.6419 - accuracy: 0.6736\n",
            "Epoch 27/150\n",
            "62/62 [==============================] - 0s 1ms/step - loss: 0.5984 - accuracy: 0.6902\n",
            "Epoch 28/150\n",
            "62/62 [==============================] - 0s 1ms/step - loss: 0.5860 - accuracy: 0.6700\n",
            "Epoch 29/150\n",
            "62/62 [==============================] - 0s 1ms/step - loss: 0.5981 - accuracy: 0.6872\n",
            "Epoch 30/150\n",
            "62/62 [==============================] - 0s 1ms/step - loss: 0.5866 - accuracy: 0.6904\n",
            "Epoch 31/150\n",
            "62/62 [==============================] - 0s 1ms/step - loss: 0.6070 - accuracy: 0.6584\n",
            "Epoch 32/150\n",
            "62/62 [==============================] - 0s 1ms/step - loss: 0.6019 - accuracy: 0.6792\n",
            "Epoch 33/150\n",
            "62/62 [==============================] - 0s 1ms/step - loss: 0.6161 - accuracy: 0.6844\n",
            "Epoch 34/150\n",
            "62/62 [==============================] - 0s 1ms/step - loss: 0.6047 - accuracy: 0.6798\n",
            "Epoch 35/150\n",
            "62/62 [==============================] - 0s 1ms/step - loss: 0.5941 - accuracy: 0.6802\n",
            "Epoch 36/150\n",
            "62/62 [==============================] - 0s 1ms/step - loss: 0.5819 - accuracy: 0.6663\n",
            "Epoch 37/150\n",
            "62/62 [==============================] - 0s 1ms/step - loss: 0.6341 - accuracy: 0.6709\n",
            "Epoch 38/150\n",
            "62/62 [==============================] - 0s 1ms/step - loss: 0.5925 - accuracy: 0.6734\n",
            "Epoch 39/150\n",
            "62/62 [==============================] - 0s 1ms/step - loss: 0.5966 - accuracy: 0.6941\n",
            "Epoch 40/150\n",
            "62/62 [==============================] - 0s 1ms/step - loss: 0.6170 - accuracy: 0.6618\n",
            "Epoch 41/150\n",
            "62/62 [==============================] - 0s 1ms/step - loss: 0.6047 - accuracy: 0.6917\n",
            "Epoch 42/150\n",
            "62/62 [==============================] - 0s 1ms/step - loss: 0.5678 - accuracy: 0.6906\n",
            "Epoch 43/150\n",
            "62/62 [==============================] - 0s 1ms/step - loss: 0.5873 - accuracy: 0.6909\n",
            "Epoch 44/150\n",
            "62/62 [==============================] - 0s 1ms/step - loss: 0.5521 - accuracy: 0.7345\n",
            "Epoch 45/150\n",
            "62/62 [==============================] - 0s 1ms/step - loss: 0.5916 - accuracy: 0.6914\n",
            "Epoch 46/150\n",
            "62/62 [==============================] - 0s 1ms/step - loss: 0.5706 - accuracy: 0.6989\n",
            "Epoch 47/150\n",
            "62/62 [==============================] - 0s 1ms/step - loss: 0.5437 - accuracy: 0.7350\n",
            "Epoch 48/150\n",
            "62/62 [==============================] - 0s 1ms/step - loss: 0.5950 - accuracy: 0.7010\n",
            "Epoch 49/150\n",
            "62/62 [==============================] - 0s 1ms/step - loss: 0.5573 - accuracy: 0.7187\n",
            "Epoch 50/150\n",
            "62/62 [==============================] - 0s 1ms/step - loss: 0.6162 - accuracy: 0.6867\n",
            "Epoch 51/150\n",
            "62/62 [==============================] - 0s 1ms/step - loss: 0.5406 - accuracy: 0.7019\n",
            "Epoch 52/150\n",
            "62/62 [==============================] - 0s 1ms/step - loss: 0.5972 - accuracy: 0.7069\n",
            "Epoch 53/150\n",
            "62/62 [==============================] - 0s 1ms/step - loss: 0.5571 - accuracy: 0.7191\n",
            "Epoch 54/150\n",
            "62/62 [==============================] - 0s 1ms/step - loss: 0.5524 - accuracy: 0.7067\n",
            "Epoch 55/150\n",
            "62/62 [==============================] - 0s 1ms/step - loss: 0.5397 - accuracy: 0.7000\n",
            "Epoch 56/150\n",
            "62/62 [==============================] - 0s 1ms/step - loss: 0.5567 - accuracy: 0.7108\n",
            "Epoch 57/150\n",
            "62/62 [==============================] - 0s 1ms/step - loss: 0.5302 - accuracy: 0.7269\n",
            "Epoch 58/150\n",
            "62/62 [==============================] - 0s 1ms/step - loss: 0.5336 - accuracy: 0.7325\n",
            "Epoch 59/150\n",
            "62/62 [==============================] - 0s 1ms/step - loss: 0.5419 - accuracy: 0.7400\n",
            "Epoch 60/150\n",
            "62/62 [==============================] - 0s 1ms/step - loss: 0.5466 - accuracy: 0.7353\n",
            "Epoch 61/150\n",
            "62/62 [==============================] - 0s 1ms/step - loss: 0.5434 - accuracy: 0.7114\n",
            "Epoch 62/150\n",
            "62/62 [==============================] - 0s 1ms/step - loss: 0.5035 - accuracy: 0.7648\n",
            "Epoch 63/150\n",
            "62/62 [==============================] - 0s 1ms/step - loss: 0.5494 - accuracy: 0.7330\n",
            "Epoch 64/150\n",
            "62/62 [==============================] - 0s 1ms/step - loss: 0.5591 - accuracy: 0.6614\n",
            "Epoch 65/150\n",
            "62/62 [==============================] - 0s 1ms/step - loss: 0.5262 - accuracy: 0.7335\n",
            "Epoch 66/150\n",
            "62/62 [==============================] - 0s 1ms/step - loss: 0.5333 - accuracy: 0.7009\n",
            "Epoch 67/150\n",
            "62/62 [==============================] - 0s 1ms/step - loss: 0.5180 - accuracy: 0.7335\n",
            "Epoch 68/150\n",
            "62/62 [==============================] - 0s 1ms/step - loss: 0.5752 - accuracy: 0.6984\n",
            "Epoch 69/150\n",
            "62/62 [==============================] - 0s 1ms/step - loss: 0.5376 - accuracy: 0.7290\n",
            "Epoch 70/150\n",
            "62/62 [==============================] - 0s 1ms/step - loss: 0.5436 - accuracy: 0.7098\n",
            "Epoch 71/150\n",
            "62/62 [==============================] - 0s 1ms/step - loss: 0.5318 - accuracy: 0.7240\n",
            "Epoch 72/150\n",
            "62/62 [==============================] - 0s 1ms/step - loss: 0.5390 - accuracy: 0.7570\n",
            "Epoch 73/150\n",
            "62/62 [==============================] - 0s 1ms/step - loss: 0.6181 - accuracy: 0.6807\n",
            "Epoch 74/150\n",
            "62/62 [==============================] - 0s 1ms/step - loss: 0.5711 - accuracy: 0.7248\n",
            "Epoch 75/150\n",
            "62/62 [==============================] - 0s 2ms/step - loss: 0.5200 - accuracy: 0.7292\n",
            "Epoch 76/150\n",
            "62/62 [==============================] - 0s 1ms/step - loss: 0.5378 - accuracy: 0.7344\n",
            "Epoch 77/150\n",
            "62/62 [==============================] - 0s 1ms/step - loss: 0.5433 - accuracy: 0.7240\n",
            "Epoch 78/150\n",
            "62/62 [==============================] - 0s 1ms/step - loss: 0.5376 - accuracy: 0.7278\n",
            "Epoch 79/150\n",
            "62/62 [==============================] - 0s 1ms/step - loss: 0.5574 - accuracy: 0.7118\n",
            "Epoch 80/150\n",
            "62/62 [==============================] - 0s 1ms/step - loss: 0.5082 - accuracy: 0.7462\n",
            "Epoch 81/150\n",
            "62/62 [==============================] - 0s 1ms/step - loss: 0.4990 - accuracy: 0.7446\n",
            "Epoch 82/150\n",
            "62/62 [==============================] - 0s 1ms/step - loss: 0.5368 - accuracy: 0.7249\n",
            "Epoch 83/150\n",
            "62/62 [==============================] - 0s 1ms/step - loss: 0.5842 - accuracy: 0.7045\n",
            "Epoch 84/150\n",
            "62/62 [==============================] - 0s 1ms/step - loss: 0.5268 - accuracy: 0.7383\n",
            "Epoch 85/150\n",
            "62/62 [==============================] - 0s 1ms/step - loss: 0.5118 - accuracy: 0.7637\n",
            "Epoch 86/150\n",
            "62/62 [==============================] - 0s 1ms/step - loss: 0.5639 - accuracy: 0.6782\n",
            "Epoch 87/150\n",
            "62/62 [==============================] - 0s 1ms/step - loss: 0.5032 - accuracy: 0.7499\n",
            "Epoch 88/150\n",
            "62/62 [==============================] - 0s 1ms/step - loss: 0.5555 - accuracy: 0.7262\n",
            "Epoch 89/150\n",
            "62/62 [==============================] - 0s 1ms/step - loss: 0.5411 - accuracy: 0.7482\n",
            "Epoch 90/150\n",
            "62/62 [==============================] - 0s 1ms/step - loss: 0.5300 - accuracy: 0.7264\n",
            "Epoch 91/150\n",
            "62/62 [==============================] - 0s 1ms/step - loss: 0.5198 - accuracy: 0.7334\n",
            "Epoch 92/150\n",
            "62/62 [==============================] - 0s 1ms/step - loss: 0.4984 - accuracy: 0.7572\n",
            "Epoch 93/150\n",
            "62/62 [==============================] - 0s 1ms/step - loss: 0.5171 - accuracy: 0.7355\n",
            "Epoch 94/150\n",
            "62/62 [==============================] - 0s 1ms/step - loss: 0.4898 - accuracy: 0.7585\n",
            "Epoch 95/150\n",
            "62/62 [==============================] - 0s 1ms/step - loss: 0.5288 - accuracy: 0.7327\n",
            "Epoch 96/150\n",
            "62/62 [==============================] - 0s 1ms/step - loss: 0.5099 - accuracy: 0.7419\n",
            "Epoch 97/150\n",
            "62/62 [==============================] - 0s 1ms/step - loss: 0.5498 - accuracy: 0.7180\n",
            "Epoch 98/150\n",
            "62/62 [==============================] - 0s 1ms/step - loss: 0.5226 - accuracy: 0.7266\n",
            "Epoch 99/150\n",
            "62/62 [==============================] - 0s 1ms/step - loss: 0.4837 - accuracy: 0.7825\n",
            "Epoch 100/150\n",
            "62/62 [==============================] - 0s 1ms/step - loss: 0.4825 - accuracy: 0.7787\n",
            "Epoch 101/150\n",
            "62/62 [==============================] - 0s 1ms/step - loss: 0.5348 - accuracy: 0.7364\n",
            "Epoch 102/150\n",
            "62/62 [==============================] - 0s 1ms/step - loss: 0.4858 - accuracy: 0.7732\n",
            "Epoch 103/150\n",
            "62/62 [==============================] - 0s 1ms/step - loss: 0.4936 - accuracy: 0.7589\n",
            "Epoch 104/150\n",
            "62/62 [==============================] - 0s 1ms/step - loss: 0.5256 - accuracy: 0.7327\n",
            "Epoch 105/150\n",
            "62/62 [==============================] - 0s 1ms/step - loss: 0.4751 - accuracy: 0.7657\n",
            "Epoch 106/150\n",
            "62/62 [==============================] - 0s 1ms/step - loss: 0.5483 - accuracy: 0.7042\n",
            "Epoch 107/150\n",
            "62/62 [==============================] - 0s 1ms/step - loss: 0.5256 - accuracy: 0.7450\n",
            "Epoch 108/150\n",
            "62/62 [==============================] - 0s 1ms/step - loss: 0.4859 - accuracy: 0.7733\n",
            "Epoch 109/150\n",
            "62/62 [==============================] - 0s 1ms/step - loss: 0.5231 - accuracy: 0.7199\n",
            "Epoch 110/150\n",
            "62/62 [==============================] - 0s 1ms/step - loss: 0.4969 - accuracy: 0.7446\n",
            "Epoch 111/150\n",
            "62/62 [==============================] - 0s 1ms/step - loss: 0.4581 - accuracy: 0.7864\n",
            "Epoch 112/150\n",
            "62/62 [==============================] - 0s 1ms/step - loss: 0.4848 - accuracy: 0.7618\n",
            "Epoch 113/150\n",
            "62/62 [==============================] - 0s 1ms/step - loss: 0.5434 - accuracy: 0.7405\n",
            "Epoch 114/150\n",
            "62/62 [==============================] - 0s 1ms/step - loss: 0.4949 - accuracy: 0.7734\n",
            "Epoch 115/150\n",
            "62/62 [==============================] - 0s 1ms/step - loss: 0.4952 - accuracy: 0.7651\n",
            "Epoch 116/150\n",
            "62/62 [==============================] - 0s 1ms/step - loss: 0.4964 - accuracy: 0.7567\n",
            "Epoch 117/150\n",
            "62/62 [==============================] - 0s 1ms/step - loss: 0.5092 - accuracy: 0.7469\n",
            "Epoch 118/150\n",
            "62/62 [==============================] - 0s 1ms/step - loss: 0.5390 - accuracy: 0.7406\n",
            "Epoch 119/150\n",
            "62/62 [==============================] - 0s 1ms/step - loss: 0.4960 - accuracy: 0.7422\n",
            "Epoch 120/150\n",
            "62/62 [==============================] - 0s 1ms/step - loss: 0.4829 - accuracy: 0.7736\n",
            "Epoch 121/150\n",
            "62/62 [==============================] - 0s 1ms/step - loss: 0.5107 - accuracy: 0.7444\n",
            "Epoch 122/150\n",
            "62/62 [==============================] - 0s 1ms/step - loss: 0.4905 - accuracy: 0.7514\n",
            "Epoch 123/150\n",
            "62/62 [==============================] - 0s 1ms/step - loss: 0.4929 - accuracy: 0.7660\n",
            "Epoch 124/150\n",
            "62/62 [==============================] - 0s 1ms/step - loss: 0.4927 - accuracy: 0.7600\n",
            "Epoch 125/150\n",
            "62/62 [==============================] - 0s 1ms/step - loss: 0.5301 - accuracy: 0.7226\n",
            "Epoch 126/150\n",
            "62/62 [==============================] - 0s 1ms/step - loss: 0.5036 - accuracy: 0.7479\n",
            "Epoch 127/150\n",
            "62/62 [==============================] - 0s 1ms/step - loss: 0.5045 - accuracy: 0.7578\n",
            "Epoch 128/150\n",
            "62/62 [==============================] - 0s 1ms/step - loss: 0.4844 - accuracy: 0.7770\n",
            "Epoch 129/150\n",
            "62/62 [==============================] - 0s 1ms/step - loss: 0.4925 - accuracy: 0.7438\n",
            "Epoch 130/150\n",
            "62/62 [==============================] - 0s 1ms/step - loss: 0.5150 - accuracy: 0.7395\n",
            "Epoch 131/150\n",
            "62/62 [==============================] - 0s 1ms/step - loss: 0.5273 - accuracy: 0.7437\n",
            "Epoch 132/150\n",
            "62/62 [==============================] - 0s 1ms/step - loss: 0.4947 - accuracy: 0.7549\n",
            "Epoch 133/150\n",
            "62/62 [==============================] - 0s 1ms/step - loss: 0.5609 - accuracy: 0.7126\n",
            "Epoch 134/150\n",
            "62/62 [==============================] - 0s 1ms/step - loss: 0.4877 - accuracy: 0.7503\n",
            "Epoch 135/150\n",
            "62/62 [==============================] - 0s 1ms/step - loss: 0.4954 - accuracy: 0.7536\n",
            "Epoch 136/150\n",
            "62/62 [==============================] - 0s 1ms/step - loss: 0.4659 - accuracy: 0.7751\n",
            "Epoch 137/150\n",
            "62/62 [==============================] - 0s 1ms/step - loss: 0.5214 - accuracy: 0.7390\n",
            "Epoch 138/150\n",
            "62/62 [==============================] - 0s 1ms/step - loss: 0.4927 - accuracy: 0.7234\n",
            "Epoch 139/150\n",
            "62/62 [==============================] - 0s 1ms/step - loss: 0.5237 - accuracy: 0.7098\n",
            "Epoch 140/150\n",
            "62/62 [==============================] - 0s 1ms/step - loss: 0.4682 - accuracy: 0.7663\n",
            "Epoch 141/150\n",
            "62/62 [==============================] - 0s 1ms/step - loss: 0.4513 - accuracy: 0.7788\n",
            "Epoch 142/150\n",
            "62/62 [==============================] - 0s 1ms/step - loss: 0.4874 - accuracy: 0.7744\n",
            "Epoch 143/150\n",
            "62/62 [==============================] - 0s 1ms/step - loss: 0.4708 - accuracy: 0.7832\n",
            "Epoch 144/150\n",
            "62/62 [==============================] - 0s 1ms/step - loss: 0.5101 - accuracy: 0.7755\n",
            "Epoch 145/150\n",
            "62/62 [==============================] - 0s 1ms/step - loss: 0.4882 - accuracy: 0.7538\n",
            "Epoch 146/150\n",
            "62/62 [==============================] - 0s 1ms/step - loss: 0.4576 - accuracy: 0.7768\n",
            "Epoch 147/150\n",
            "62/62 [==============================] - 0s 1ms/step - loss: 0.4876 - accuracy: 0.7630\n",
            "Epoch 148/150\n",
            "62/62 [==============================] - 0s 1ms/step - loss: 0.4843 - accuracy: 0.7865\n",
            "Epoch 149/150\n",
            "62/62 [==============================] - 0s 1ms/step - loss: 0.5026 - accuracy: 0.7415\n",
            "Epoch 150/150\n",
            "62/62 [==============================] - 0s 1ms/step - loss: 0.4792 - accuracy: 0.7785\n"
          ],
          "name": "stdout"
        },
        {
          "output_type": "execute_result",
          "data": {
            "text/plain": [
              "<tensorflow.python.keras.callbacks.History at 0x7f9ca8556780>"
            ]
          },
          "metadata": {
            "tags": []
          },
          "execution_count": 31
        }
      ]
    },
    {
      "cell_type": "code",
      "metadata": {
        "colab": {
          "base_uri": "https://localhost:8080/"
        },
        "id": "wI6LHJ9T8iHr",
        "outputId": "1196ef70-7d14-4a69-9ab1-aeeed54eaf60"
      },
      "source": [
        "training_accuracy = model.evaluate(X_train,y_train)"
      ],
      "execution_count": null,
      "outputs": [
        {
          "output_type": "stream",
          "text": [
            "20/20 [==============================] - 0s 1ms/step - loss: 0.4707 - accuracy: 0.7622\n"
          ],
          "name": "stdout"
        }
      ]
    },
    {
      "cell_type": "code",
      "metadata": {
        "colab": {
          "base_uri": "https://localhost:8080/"
        },
        "id": "pDKBkYIx7fr8",
        "outputId": "628e32cc-b8b4-4a1a-e951-ea3116930644"
      },
      "source": [
        "testing_accuracy = model.evaluate(X_test,y_test)"
      ],
      "execution_count": null,
      "outputs": [
        {
          "output_type": "stream",
          "text": [
            "5/5 [==============================] - 0s 2ms/step - loss: 0.5713 - accuracy: 0.7532\n"
          ],
          "name": "stdout"
        }
      ]
    },
    {
      "cell_type": "markdown",
      "metadata": {
        "id": "4FRjS4NdJOrJ"
      },
      "source": [
        "So after training and testing the above model we came to a conclusion that the model has a high bias and has a low variance.\n",
        "So we try and improve the model"
      ]
    },
    {
      "cell_type": "code",
      "metadata": {
        "id": "CsDUj5wtJIFy"
      },
      "source": [
        "model=Sequential()\n",
        "model.add(Dense(15,input_dim=8,activation='relu'))\n",
        "model.add(Dense(7,activation='relu'))\n",
        "model.add(Dense(15,input_dim=8,activation='relu'))\n",
        "model.add(Dense(7,activation='relu'))\n",
        "model.add(Dense(1,activation='sigmoid'))\n",
        "#compile the model\n",
        "model.compile(loss='binary_crossentropy',optimizer='adam',metrics=['accuracy'])"
      ],
      "execution_count": null,
      "outputs": []
    },
    {
      "cell_type": "code",
      "metadata": {
        "colab": {
          "base_uri": "https://localhost:8080/"
        },
        "id": "ZDoDNwp1JxqL",
        "outputId": "982ca95c-2e0c-434e-f1ff-36f96e362e40"
      },
      "source": [
        "#fit the model\n",
        "model.fit(X_train, y_train, epochs = 150 ,batch_size = 10)"
      ],
      "execution_count": null,
      "outputs": [
        {
          "output_type": "stream",
          "text": [
            "Epoch 1/150\n",
            "62/62 [==============================] - 1s 1ms/step - loss: 0.8693 - accuracy: 0.5762\n",
            "Epoch 2/150\n",
            "62/62 [==============================] - 0s 2ms/step - loss: 0.6660 - accuracy: 0.5964\n",
            "Epoch 3/150\n",
            "62/62 [==============================] - 0s 1ms/step - loss: 0.6134 - accuracy: 0.6815\n",
            "Epoch 4/150\n",
            "62/62 [==============================] - 0s 1ms/step - loss: 0.6117 - accuracy: 0.6867\n",
            "Epoch 5/150\n",
            "62/62 [==============================] - 0s 1ms/step - loss: 0.5807 - accuracy: 0.7181\n",
            "Epoch 6/150\n",
            "62/62 [==============================] - 0s 2ms/step - loss: 0.5947 - accuracy: 0.7050\n",
            "Epoch 7/150\n",
            "62/62 [==============================] - 0s 2ms/step - loss: 0.5736 - accuracy: 0.7277\n",
            "Epoch 8/150\n",
            "62/62 [==============================] - 0s 1ms/step - loss: 0.5543 - accuracy: 0.7235\n",
            "Epoch 9/150\n",
            "62/62 [==============================] - 0s 1ms/step - loss: 0.6180 - accuracy: 0.6547\n",
            "Epoch 10/150\n",
            "62/62 [==============================] - 0s 2ms/step - loss: 0.6273 - accuracy: 0.6701\n",
            "Epoch 11/150\n",
            "62/62 [==============================] - 0s 1ms/step - loss: 0.5763 - accuracy: 0.7170\n",
            "Epoch 12/150\n",
            "62/62 [==============================] - 0s 1ms/step - loss: 0.5886 - accuracy: 0.6856\n",
            "Epoch 13/150\n",
            "62/62 [==============================] - 0s 1ms/step - loss: 0.5672 - accuracy: 0.7232\n",
            "Epoch 14/150\n",
            "62/62 [==============================] - 0s 2ms/step - loss: 0.5609 - accuracy: 0.7194\n",
            "Epoch 15/150\n",
            "62/62 [==============================] - 0s 2ms/step - loss: 0.5552 - accuracy: 0.7327\n",
            "Epoch 16/150\n",
            "62/62 [==============================] - 0s 2ms/step - loss: 0.5716 - accuracy: 0.6707\n",
            "Epoch 17/150\n",
            "62/62 [==============================] - 0s 1ms/step - loss: 0.5570 - accuracy: 0.6978\n",
            "Epoch 18/150\n",
            "62/62 [==============================] - 0s 2ms/step - loss: 0.5715 - accuracy: 0.7030\n",
            "Epoch 19/150\n",
            "62/62 [==============================] - 0s 1ms/step - loss: 0.5951 - accuracy: 0.6943\n",
            "Epoch 20/150\n",
            "62/62 [==============================] - 0s 1ms/step - loss: 0.5605 - accuracy: 0.7235\n",
            "Epoch 21/150\n",
            "62/62 [==============================] - 0s 1ms/step - loss: 0.5367 - accuracy: 0.7362\n",
            "Epoch 22/150\n",
            "62/62 [==============================] - 0s 1ms/step - loss: 0.5776 - accuracy: 0.6907\n",
            "Epoch 23/150\n",
            "62/62 [==============================] - 0s 1ms/step - loss: 0.5272 - accuracy: 0.7546\n",
            "Epoch 24/150\n",
            "62/62 [==============================] - 0s 1ms/step - loss: 0.5462 - accuracy: 0.7151\n",
            "Epoch 25/150\n",
            "62/62 [==============================] - 0s 1ms/step - loss: 0.5514 - accuracy: 0.7172\n",
            "Epoch 26/150\n",
            "62/62 [==============================] - 0s 2ms/step - loss: 0.5519 - accuracy: 0.7190\n",
            "Epoch 27/150\n",
            "62/62 [==============================] - 0s 2ms/step - loss: 0.5233 - accuracy: 0.7533\n",
            "Epoch 28/150\n",
            "62/62 [==============================] - 0s 2ms/step - loss: 0.5291 - accuracy: 0.7526\n",
            "Epoch 29/150\n",
            "62/62 [==============================] - 0s 1ms/step - loss: 0.5532 - accuracy: 0.6992\n",
            "Epoch 30/150\n",
            "62/62 [==============================] - 0s 1ms/step - loss: 0.5529 - accuracy: 0.7001\n",
            "Epoch 31/150\n",
            "62/62 [==============================] - 0s 2ms/step - loss: 0.5101 - accuracy: 0.7447\n",
            "Epoch 32/150\n",
            "62/62 [==============================] - 0s 1ms/step - loss: 0.5185 - accuracy: 0.7234\n",
            "Epoch 33/150\n",
            "62/62 [==============================] - 0s 1ms/step - loss: 0.5099 - accuracy: 0.7386\n",
            "Epoch 34/150\n",
            "62/62 [==============================] - 0s 1ms/step - loss: 0.5557 - accuracy: 0.7194\n",
            "Epoch 35/150\n",
            "62/62 [==============================] - 0s 2ms/step - loss: 0.5329 - accuracy: 0.7633\n",
            "Epoch 36/150\n",
            "62/62 [==============================] - 0s 1ms/step - loss: 0.5033 - accuracy: 0.7584\n",
            "Epoch 37/150\n",
            "62/62 [==============================] - 0s 2ms/step - loss: 0.4846 - accuracy: 0.7773\n",
            "Epoch 38/150\n",
            "62/62 [==============================] - 0s 2ms/step - loss: 0.5181 - accuracy: 0.7406\n",
            "Epoch 39/150\n",
            "62/62 [==============================] - 0s 2ms/step - loss: 0.5508 - accuracy: 0.7220\n",
            "Epoch 40/150\n",
            "62/62 [==============================] - 0s 1ms/step - loss: 0.5389 - accuracy: 0.7397\n",
            "Epoch 41/150\n",
            "62/62 [==============================] - 0s 2ms/step - loss: 0.4804 - accuracy: 0.7598\n",
            "Epoch 42/150\n",
            "62/62 [==============================] - 0s 1ms/step - loss: 0.5153 - accuracy: 0.7193\n",
            "Epoch 43/150\n",
            "62/62 [==============================] - 0s 1ms/step - loss: 0.5097 - accuracy: 0.7341\n",
            "Epoch 44/150\n",
            "62/62 [==============================] - 0s 2ms/step - loss: 0.4972 - accuracy: 0.7518\n",
            "Epoch 45/150\n",
            "62/62 [==============================] - 0s 2ms/step - loss: 0.4712 - accuracy: 0.7714\n",
            "Epoch 46/150\n",
            "62/62 [==============================] - 0s 1ms/step - loss: 0.5091 - accuracy: 0.7456\n",
            "Epoch 47/150\n",
            "62/62 [==============================] - 0s 2ms/step - loss: 0.5389 - accuracy: 0.6992\n",
            "Epoch 48/150\n",
            "62/62 [==============================] - 0s 1ms/step - loss: 0.4516 - accuracy: 0.7813\n",
            "Epoch 49/150\n",
            "62/62 [==============================] - 0s 1ms/step - loss: 0.4873 - accuracy: 0.7401\n",
            "Epoch 50/150\n",
            "62/62 [==============================] - 0s 1ms/step - loss: 0.4974 - accuracy: 0.7565\n",
            "Epoch 51/150\n",
            "62/62 [==============================] - 0s 1ms/step - loss: 0.5569 - accuracy: 0.7237\n",
            "Epoch 52/150\n",
            "62/62 [==============================] - 0s 2ms/step - loss: 0.5082 - accuracy: 0.7680\n",
            "Epoch 53/150\n",
            "62/62 [==============================] - 0s 2ms/step - loss: 0.4746 - accuracy: 0.7660\n",
            "Epoch 54/150\n",
            "62/62 [==============================] - 0s 1ms/step - loss: 0.5241 - accuracy: 0.7570\n",
            "Epoch 55/150\n",
            "62/62 [==============================] - 0s 1ms/step - loss: 0.4880 - accuracy: 0.7489\n",
            "Epoch 56/150\n",
            "62/62 [==============================] - 0s 2ms/step - loss: 0.4781 - accuracy: 0.7677\n",
            "Epoch 57/150\n",
            "62/62 [==============================] - 0s 2ms/step - loss: 0.4874 - accuracy: 0.7585\n",
            "Epoch 58/150\n",
            "62/62 [==============================] - 0s 1ms/step - loss: 0.4868 - accuracy: 0.7491\n",
            "Epoch 59/150\n",
            "62/62 [==============================] - 0s 2ms/step - loss: 0.4936 - accuracy: 0.7701\n",
            "Epoch 60/150\n",
            "62/62 [==============================] - 0s 1ms/step - loss: 0.4723 - accuracy: 0.7453\n",
            "Epoch 61/150\n",
            "62/62 [==============================] - 0s 2ms/step - loss: 0.5140 - accuracy: 0.7645\n",
            "Epoch 62/150\n",
            "62/62 [==============================] - 0s 2ms/step - loss: 0.5176 - accuracy: 0.7269\n",
            "Epoch 63/150\n",
            "62/62 [==============================] - 0s 1ms/step - loss: 0.4852 - accuracy: 0.7539\n",
            "Epoch 64/150\n",
            "62/62 [==============================] - 0s 1ms/step - loss: 0.4830 - accuracy: 0.7639\n",
            "Epoch 65/150\n",
            "62/62 [==============================] - 0s 2ms/step - loss: 0.4895 - accuracy: 0.7638\n",
            "Epoch 66/150\n",
            "62/62 [==============================] - 0s 2ms/step - loss: 0.4611 - accuracy: 0.7601\n",
            "Epoch 67/150\n",
            "62/62 [==============================] - 0s 2ms/step - loss: 0.5191 - accuracy: 0.7364\n",
            "Epoch 68/150\n",
            "62/62 [==============================] - 0s 1ms/step - loss: 0.4594 - accuracy: 0.8034\n",
            "Epoch 69/150\n",
            "62/62 [==============================] - 0s 2ms/step - loss: 0.4286 - accuracy: 0.7903\n",
            "Epoch 70/150\n",
            "62/62 [==============================] - 0s 1ms/step - loss: 0.4212 - accuracy: 0.8105\n",
            "Epoch 71/150\n",
            "62/62 [==============================] - 0s 2ms/step - loss: 0.4634 - accuracy: 0.7597\n",
            "Epoch 72/150\n",
            "62/62 [==============================] - 0s 1ms/step - loss: 0.4495 - accuracy: 0.7814\n",
            "Epoch 73/150\n",
            "62/62 [==============================] - 0s 1ms/step - loss: 0.4558 - accuracy: 0.7627\n",
            "Epoch 74/150\n",
            "62/62 [==============================] - 0s 1ms/step - loss: 0.4172 - accuracy: 0.7703\n",
            "Epoch 75/150\n",
            "62/62 [==============================] - 0s 2ms/step - loss: 0.4702 - accuracy: 0.7928\n",
            "Epoch 76/150\n",
            "62/62 [==============================] - 0s 1ms/step - loss: 0.4553 - accuracy: 0.7806\n",
            "Epoch 77/150\n",
            "62/62 [==============================] - 0s 2ms/step - loss: 0.4650 - accuracy: 0.7881\n",
            "Epoch 78/150\n",
            "62/62 [==============================] - 0s 1ms/step - loss: 0.4645 - accuracy: 0.7738\n",
            "Epoch 79/150\n",
            "62/62 [==============================] - 0s 1ms/step - loss: 0.4640 - accuracy: 0.7556\n",
            "Epoch 80/150\n",
            "62/62 [==============================] - 0s 1ms/step - loss: 0.4587 - accuracy: 0.7585\n",
            "Epoch 81/150\n",
            "62/62 [==============================] - 0s 2ms/step - loss: 0.4752 - accuracy: 0.7717\n",
            "Epoch 82/150\n",
            "62/62 [==============================] - 0s 2ms/step - loss: 0.4447 - accuracy: 0.7773\n",
            "Epoch 83/150\n",
            "62/62 [==============================] - 0s 2ms/step - loss: 0.4681 - accuracy: 0.7771\n",
            "Epoch 84/150\n",
            "62/62 [==============================] - 0s 2ms/step - loss: 0.4561 - accuracy: 0.7757\n",
            "Epoch 85/150\n",
            "62/62 [==============================] - 0s 1ms/step - loss: 0.4492 - accuracy: 0.7884\n",
            "Epoch 86/150\n",
            "62/62 [==============================] - 0s 2ms/step - loss: 0.4512 - accuracy: 0.7825\n",
            "Epoch 87/150\n",
            "62/62 [==============================] - 0s 2ms/step - loss: 0.4583 - accuracy: 0.7802\n",
            "Epoch 88/150\n",
            "62/62 [==============================] - 0s 1ms/step - loss: 0.4384 - accuracy: 0.7826\n",
            "Epoch 89/150\n",
            "62/62 [==============================] - 0s 1ms/step - loss: 0.4577 - accuracy: 0.7715\n",
            "Epoch 90/150\n",
            "62/62 [==============================] - 0s 2ms/step - loss: 0.4329 - accuracy: 0.7971\n",
            "Epoch 91/150\n",
            "62/62 [==============================] - 0s 2ms/step - loss: 0.4659 - accuracy: 0.7691\n",
            "Epoch 92/150\n",
            "62/62 [==============================] - 0s 2ms/step - loss: 0.4334 - accuracy: 0.7672\n",
            "Epoch 93/150\n",
            "62/62 [==============================] - 0s 1ms/step - loss: 0.4347 - accuracy: 0.7968\n",
            "Epoch 94/150\n",
            "62/62 [==============================] - 0s 1ms/step - loss: 0.4556 - accuracy: 0.7873\n",
            "Epoch 95/150\n",
            "62/62 [==============================] - 0s 1ms/step - loss: 0.4494 - accuracy: 0.8102\n",
            "Epoch 96/150\n",
            "62/62 [==============================] - 0s 2ms/step - loss: 0.4390 - accuracy: 0.7822\n",
            "Epoch 97/150\n",
            "62/62 [==============================] - 0s 2ms/step - loss: 0.4376 - accuracy: 0.8149\n",
            "Epoch 98/150\n",
            "62/62 [==============================] - 0s 2ms/step - loss: 0.4585 - accuracy: 0.7863\n",
            "Epoch 99/150\n",
            "62/62 [==============================] - 0s 1ms/step - loss: 0.4256 - accuracy: 0.7894\n",
            "Epoch 100/150\n",
            "62/62 [==============================] - 0s 1ms/step - loss: 0.4073 - accuracy: 0.8081\n",
            "Epoch 101/150\n",
            "62/62 [==============================] - 0s 1ms/step - loss: 0.4206 - accuracy: 0.8149\n",
            "Epoch 102/150\n",
            "62/62 [==============================] - 0s 2ms/step - loss: 0.4372 - accuracy: 0.7941\n",
            "Epoch 103/150\n",
            "62/62 [==============================] - 0s 1ms/step - loss: 0.4624 - accuracy: 0.7809\n",
            "Epoch 104/150\n",
            "62/62 [==============================] - 0s 1ms/step - loss: 0.4668 - accuracy: 0.7593\n",
            "Epoch 105/150\n",
            "62/62 [==============================] - 0s 1ms/step - loss: 0.4460 - accuracy: 0.8019\n",
            "Epoch 106/150\n",
            "62/62 [==============================] - 0s 2ms/step - loss: 0.4686 - accuracy: 0.7646\n",
            "Epoch 107/150\n",
            "62/62 [==============================] - 0s 2ms/step - loss: 0.4291 - accuracy: 0.7845\n",
            "Epoch 108/150\n",
            "62/62 [==============================] - 0s 2ms/step - loss: 0.4259 - accuracy: 0.7965\n",
            "Epoch 109/150\n",
            "62/62 [==============================] - 0s 1ms/step - loss: 0.4261 - accuracy: 0.8089\n",
            "Epoch 110/150\n",
            "62/62 [==============================] - 0s 2ms/step - loss: 0.4079 - accuracy: 0.7995\n",
            "Epoch 111/150\n",
            "62/62 [==============================] - 0s 2ms/step - loss: 0.4239 - accuracy: 0.8011\n",
            "Epoch 112/150\n",
            "62/62 [==============================] - 0s 2ms/step - loss: 0.4056 - accuracy: 0.8262\n",
            "Epoch 113/150\n",
            "62/62 [==============================] - 0s 1ms/step - loss: 0.4098 - accuracy: 0.8176\n",
            "Epoch 114/150\n",
            "62/62 [==============================] - 0s 1ms/step - loss: 0.4286 - accuracy: 0.8120\n",
            "Epoch 115/150\n",
            "62/62 [==============================] - 0s 2ms/step - loss: 0.4128 - accuracy: 0.8009\n",
            "Epoch 116/150\n",
            "62/62 [==============================] - 0s 1ms/step - loss: 0.4133 - accuracy: 0.8051\n",
            "Epoch 117/150\n",
            "62/62 [==============================] - 0s 2ms/step - loss: 0.4190 - accuracy: 0.8026\n",
            "Epoch 118/150\n",
            "62/62 [==============================] - 0s 2ms/step - loss: 0.4100 - accuracy: 0.8143\n",
            "Epoch 119/150\n",
            "62/62 [==============================] - 0s 1ms/step - loss: 0.4308 - accuracy: 0.8105\n",
            "Epoch 120/150\n",
            "62/62 [==============================] - 0s 1ms/step - loss: 0.4530 - accuracy: 0.7837\n",
            "Epoch 121/150\n",
            "62/62 [==============================] - 0s 1ms/step - loss: 0.3915 - accuracy: 0.8119\n",
            "Epoch 122/150\n",
            "62/62 [==============================] - 0s 2ms/step - loss: 0.4665 - accuracy: 0.7748\n",
            "Epoch 123/150\n",
            "62/62 [==============================] - 0s 1ms/step - loss: 0.4349 - accuracy: 0.8062\n",
            "Epoch 124/150\n",
            "62/62 [==============================] - 0s 2ms/step - loss: 0.4491 - accuracy: 0.7749\n",
            "Epoch 125/150\n",
            "62/62 [==============================] - 0s 2ms/step - loss: 0.3891 - accuracy: 0.8365\n",
            "Epoch 126/150\n",
            "62/62 [==============================] - 0s 1ms/step - loss: 0.3895 - accuracy: 0.8308\n",
            "Epoch 127/150\n",
            "62/62 [==============================] - 0s 2ms/step - loss: 0.4081 - accuracy: 0.8252\n",
            "Epoch 128/150\n",
            "62/62 [==============================] - 0s 1ms/step - loss: 0.4337 - accuracy: 0.8011\n",
            "Epoch 129/150\n",
            "62/62 [==============================] - 0s 2ms/step - loss: 0.4204 - accuracy: 0.8123\n",
            "Epoch 130/150\n",
            "62/62 [==============================] - 0s 2ms/step - loss: 0.4211 - accuracy: 0.8024\n",
            "Epoch 131/150\n",
            "62/62 [==============================] - 0s 2ms/step - loss: 0.4111 - accuracy: 0.8084\n",
            "Epoch 132/150\n",
            "62/62 [==============================] - 0s 1ms/step - loss: 0.4121 - accuracy: 0.7896\n",
            "Epoch 133/150\n",
            "62/62 [==============================] - 0s 1ms/step - loss: 0.4085 - accuracy: 0.8261\n",
            "Epoch 134/150\n",
            "62/62 [==============================] - 0s 1ms/step - loss: 0.4199 - accuracy: 0.7982\n",
            "Epoch 135/150\n",
            "62/62 [==============================] - 0s 2ms/step - loss: 0.4293 - accuracy: 0.7854\n",
            "Epoch 136/150\n",
            "62/62 [==============================] - 0s 2ms/step - loss: 0.4655 - accuracy: 0.7911\n",
            "Epoch 137/150\n",
            "62/62 [==============================] - 0s 1ms/step - loss: 0.4242 - accuracy: 0.8062\n",
            "Epoch 138/150\n",
            "62/62 [==============================] - 0s 1ms/step - loss: 0.4250 - accuracy: 0.7997\n",
            "Epoch 139/150\n",
            "62/62 [==============================] - 0s 2ms/step - loss: 0.3867 - accuracy: 0.8202\n",
            "Epoch 140/150\n",
            "62/62 [==============================] - 0s 1ms/step - loss: 0.4143 - accuracy: 0.8127\n",
            "Epoch 141/150\n",
            "62/62 [==============================] - 0s 1ms/step - loss: 0.4089 - accuracy: 0.8313\n",
            "Epoch 142/150\n",
            "62/62 [==============================] - 0s 2ms/step - loss: 0.4097 - accuracy: 0.8305\n",
            "Epoch 143/150\n",
            "62/62 [==============================] - 0s 1ms/step - loss: 0.3846 - accuracy: 0.8303\n",
            "Epoch 144/150\n",
            "62/62 [==============================] - 0s 2ms/step - loss: 0.4071 - accuracy: 0.8161\n",
            "Epoch 145/150\n",
            "62/62 [==============================] - 0s 2ms/step - loss: 0.4229 - accuracy: 0.7809\n",
            "Epoch 146/150\n",
            "62/62 [==============================] - 0s 1ms/step - loss: 0.4252 - accuracy: 0.7979\n",
            "Epoch 147/150\n",
            "62/62 [==============================] - 0s 1ms/step - loss: 0.3880 - accuracy: 0.8306\n",
            "Epoch 148/150\n",
            "62/62 [==============================] - 0s 1ms/step - loss: 0.4176 - accuracy: 0.8105\n",
            "Epoch 149/150\n",
            "62/62 [==============================] - 0s 1ms/step - loss: 0.3999 - accuracy: 0.8110\n",
            "Epoch 150/150\n",
            "62/62 [==============================] - 0s 1ms/step - loss: 0.4136 - accuracy: 0.8257\n"
          ],
          "name": "stdout"
        },
        {
          "output_type": "execute_result",
          "data": {
            "text/plain": [
              "<tensorflow.python.keras.callbacks.History at 0x7f0e93392978>"
            ]
          },
          "metadata": {
            "tags": []
          },
          "execution_count": 14
        }
      ]
    },
    {
      "cell_type": "code",
      "metadata": {
        "colab": {
          "base_uri": "https://localhost:8080/"
        },
        "id": "37kdcIGtKOag",
        "outputId": "32823267-0350-4c26-c26a-639f21194a4b"
      },
      "source": [
        "training_accuracy = model.evaluate(X_train,y_train)"
      ],
      "execution_count": null,
      "outputs": [
        {
          "output_type": "stream",
          "text": [
            "20/20 [==============================] - 0s 1ms/step - loss: 0.4138 - accuracy: 0.8078\n"
          ],
          "name": "stdout"
        }
      ]
    },
    {
      "cell_type": "code",
      "metadata": {
        "colab": {
          "base_uri": "https://localhost:8080/"
        },
        "id": "P2cuizCBKPdY",
        "outputId": "8c30e668-5f83-4007-c657-22a5670b5ceb"
      },
      "source": [
        "test_accuracy = model.evaluate(X_test,y_test)"
      ],
      "execution_count": null,
      "outputs": [
        {
          "output_type": "stream",
          "text": [
            "5/5 [==============================] - 0s 2ms/step - loss: 0.6279 - accuracy: 0.7338\n"
          ],
          "name": "stdout"
        }
      ]
    },
    {
      "cell_type": "markdown",
      "metadata": {
        "id": "aMP2p-oUKyV2"
      },
      "source": [
        "So we tried to improve the models performance and now the training accuracy has been improved from a high to a low bias and even the testing accuracy has improved"
      ]
    }
  ]
}