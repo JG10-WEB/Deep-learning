{
  "nbformat": 4,
  "nbformat_minor": 0,
  "metadata": {
    "colab": {
      "name": "deep learning experiment 6ipynb",
      "provenance": [],
      "collapsed_sections": []
    },
    "kernelspec": {
      "name": "python3",
      "display_name": "Python 3"
    }
  },
  "cells": [
    {
      "cell_type": "markdown",
      "metadata": {
        "id": "ocep6BaVJrl6"
      },
      "source": [
        "Name: Jay Goyal\n",
        "\n",
        "Experiment: 6\n",
        "\n",
        "Roll No: C017\n",
        "\n",
        "Btech EXTC\n",
        "\n",
        "Third Year\n",
        "\n",
        "Semester 6"
      ]
    },
    {
      "cell_type": "code",
      "metadata": {
        "id": "HMdg5L_hJt1h"
      },
      "source": [
        "# build a cnn for classifying the handwritten digits\n",
        "from keras.datasets import mnist\n",
        "from keras.models import Sequential\n",
        "from keras.layers import Dense, Dropout, Conv2D, MaxPool2D, Flatten\n",
        "from keras.utils import np_utils\n",
        "from sklearn.metrics import accuracy_score\n"
      ],
      "execution_count": null,
      "outputs": []
    },
    {
      "cell_type": "code",
      "metadata": {
        "colab": {
          "base_uri": "https://localhost:8080/"
        },
        "id": "vEtUsiXWKknK",
        "outputId": "f0c9857e-9ae2-4a3d-b245-3f6ad8976e9e"
      },
      "source": [
        "#load the dataset\n",
        "(X_train, y_train), (X_test, y_test) = mnist.load_data()"
      ],
      "execution_count": null,
      "outputs": [
        {
          "output_type": "stream",
          "text": [
            "Downloading data from https://storage.googleapis.com/tensorflow/tf-keras-datasets/mnist.npz\n",
            "11493376/11490434 [==============================] - 0s 0us/step\n"
          ],
          "name": "stdout"
        }
      ]
    },
    {
      "cell_type": "code",
      "metadata": {
        "colab": {
          "base_uri": "https://localhost:8080/"
        },
        "id": "NiiUf7w9LHJO",
        "outputId": "ec3ec460-122f-4187-f863-aa0d216bd38d"
      },
      "source": [
        "X_train.shape"
      ],
      "execution_count": null,
      "outputs": [
        {
          "output_type": "execute_result",
          "data": {
            "text/plain": [
              "(60000, 28, 28)"
            ]
          },
          "metadata": {
            "tags": []
          },
          "execution_count": 5
        }
      ]
    },
    {
      "cell_type": "code",
      "metadata": {
        "colab": {
          "base_uri": "https://localhost:8080/"
        },
        "id": "qRhFpLNeLK4-",
        "outputId": "43357277-e512-4af3-fc2f-42a864f5e8dc"
      },
      "source": [
        "X_test.shape # number of samples = 60k and 28 X 28 grey and if colour 28 X 28 X 3  x is a img of 28x28 # y is what the image is,is it 5 or 6 or 0\n"
      ],
      "execution_count": null,
      "outputs": [
        {
          "output_type": "execute_result",
          "data": {
            "text/plain": [
              "(10000, 28, 28)"
            ]
          },
          "metadata": {
            "tags": []
          },
          "execution_count": 6
        }
      ]
    },
    {
      "cell_type": "code",
      "metadata": {
        "colab": {
          "base_uri": "https://localhost:8080/"
        },
        "id": "uiTPApb6LWu-",
        "outputId": "2012fef5-8885-46b7-967a-5d9ae36c95df"
      },
      "source": [
        "y_train.shape"
      ],
      "execution_count": null,
      "outputs": [
        {
          "output_type": "execute_result",
          "data": {
            "text/plain": [
              "(60000,)"
            ]
          },
          "metadata": {
            "tags": []
          },
          "execution_count": 7
        }
      ]
    },
    {
      "cell_type": "code",
      "metadata": {
        "colab": {
          "base_uri": "https://localhost:8080/"
        },
        "id": "gnDfnexKLkA3",
        "outputId": "5fb39cf8-3c3e-4dcf-ee08-6ea464eadbd7"
      },
      "source": [
        "y_test.shape"
      ],
      "execution_count": null,
      "outputs": [
        {
          "output_type": "execute_result",
          "data": {
            "text/plain": [
              "(10000,)"
            ]
          },
          "metadata": {
            "tags": []
          },
          "execution_count": 8
        }
      ]
    },
    {
      "cell_type": "code",
      "metadata": {
        "colab": {
          "base_uri": "https://localhost:8080/"
        },
        "id": "3L4zZceoL0Is",
        "outputId": "d24c0f3b-cd68-4c50-aed4-5a66ec61640b"
      },
      "source": [
        "y_train[0]"
      ],
      "execution_count": null,
      "outputs": [
        {
          "output_type": "execute_result",
          "data": {
            "text/plain": [
              "5"
            ]
          },
          "metadata": {
            "tags": []
          },
          "execution_count": 10
        }
      ]
    },
    {
      "cell_type": "code",
      "metadata": {
        "colab": {
          "base_uri": "https://localhost:8080/"
        },
        "id": "3f6LGkNjL1gU",
        "outputId": "135495c3-59e3-4695-bb0b-84173107b0cd"
      },
      "source": [
        "y_test[0]"
      ],
      "execution_count": null,
      "outputs": [
        {
          "output_type": "execute_result",
          "data": {
            "text/plain": [
              "7"
            ]
          },
          "metadata": {
            "tags": []
          },
          "execution_count": 9
        }
      ]
    },
    {
      "cell_type": "code",
      "metadata": {
        "id": "jyyW-Ri-LnKl"
      },
      "source": [
        "#building the input vector\n",
        "X_train = X_train.reshape(X_train.shape[0], 28,28,1)\n"
      ],
      "execution_count": null,
      "outputs": []
    },
    {
      "cell_type": "code",
      "metadata": {
        "colab": {
          "base_uri": "https://localhost:8080/"
        },
        "id": "h6Mjh-hdNu3S",
        "outputId": "82ce3c7c-763b-4d7c-fd5a-b9361d996603"
      },
      "source": [
        "X_train.shape"
      ],
      "execution_count": null,
      "outputs": [
        {
          "output_type": "execute_result",
          "data": {
            "text/plain": [
              "(60000, 28, 28, 1)"
            ]
          },
          "metadata": {
            "tags": []
          },
          "execution_count": 13
        }
      ]
    },
    {
      "cell_type": "code",
      "metadata": {
        "id": "aDmDipx3N8eQ"
      },
      "source": [
        "X_test = X_test.reshape(X_test.shape[0], 28,28,1)  #grey scale is 1 colour is 3"
      ],
      "execution_count": null,
      "outputs": []
    },
    {
      "cell_type": "code",
      "metadata": {
        "colab": {
          "base_uri": "https://localhost:8080/"
        },
        "id": "PsJUCtL9OCuA",
        "outputId": "5f6367d9-528c-4a9c-afe5-b8f6a688156f"
      },
      "source": [
        "X_test.shape"
      ],
      "execution_count": null,
      "outputs": [
        {
          "output_type": "execute_result",
          "data": {
            "text/plain": [
              "(10000, 28, 28, 1)"
            ]
          },
          "metadata": {
            "tags": []
          },
          "execution_count": 15
        }
      ]
    },
    {
      "cell_type": "code",
      "metadata": {
        "id": "2EWERzZwOFNn"
      },
      "source": [
        "#normalizing the data\n",
        "X_train = X_train.astype('float32') \n",
        "X_test = X_test.astype('float32')"
      ],
      "execution_count": null,
      "outputs": []
    },
    {
      "cell_type": "code",
      "metadata": {
        "id": "oqK2MomRPcZm"
      },
      "source": [
        "X_train /= 255\n",
        "X_test /= 255"
      ],
      "execution_count": null,
      "outputs": []
    },
    {
      "cell_type": "code",
      "metadata": {
        "id": "xPt0ixaqPp6j"
      },
      "source": [
        "#one hot encode as we using softmax\n",
        "n_classes = 10\n",
        "y_train = np_utils.to_categorical(y_train,n_classes)\n",
        "y_test = np_utils.to_categorical(y_test,n_classes)"
      ],
      "execution_count": null,
      "outputs": []
    },
    {
      "cell_type": "code",
      "metadata": {
        "colab": {
          "base_uri": "https://localhost:8080/"
        },
        "id": "q_EEYnqOQPBj",
        "outputId": "3ecb3484-263b-4422-fdff-0c2ad1fb6038"
      },
      "source": [
        "y_train[0]"
      ],
      "execution_count": null,
      "outputs": [
        {
          "output_type": "execute_result",
          "data": {
            "text/plain": [
              "array([0., 0., 0., 0., 0., 1., 0., 0., 0., 0.], dtype=float32)"
            ]
          },
          "metadata": {
            "tags": []
          },
          "execution_count": 20
        }
      ]
    },
    {
      "cell_type": "code",
      "metadata": {
        "id": "UIty6VNASZrQ"
      },
      "source": [
        "#Building a CNN model\n",
        "model=Sequential()\n",
        "\n",
        "#Convolutional layer\n",
        "model.add(Conv2D(50,kernel_size=(3,3),strides = (1,1),padding='same',activation='relu',input_shape=(28,28,1)))\n",
        "model.add(MaxPool2D(pool_size = (1,1)))\n",
        "\n",
        "#flatten output of cov layer\n",
        "model.add(Flatten())\n",
        "\n",
        "#fully connected layer\n",
        "model.add(Dense(100, activation = 'relu'))\n",
        "\n",
        "#output layer\n",
        "model.add(Dense(10, activation = 'softmax'))"
      ],
      "execution_count": null,
      "outputs": []
    },
    {
      "cell_type": "code",
      "metadata": {
        "id": "nN2cnTk1R-uI"
      },
      "source": [
        "#compile the model\n",
        "model.compile(loss = 'categorical_crossentropy', metrics = ['accuracy'], optimizer = 'adam')"
      ],
      "execution_count": null,
      "outputs": []
    },
    {
      "cell_type": "code",
      "metadata": {
        "colab": {
          "base_uri": "https://localhost:8080/"
        },
        "id": "KGvIcHIbUx1J",
        "outputId": "1c227752-47ac-4eeb-dc45-328fa5da612f"
      },
      "source": [
        "#train the model\n",
        "model.fit(X_train, y_train, batch_size=120, epochs=10 , validation_data = (X_test,y_test))"
      ],
      "execution_count": null,
      "outputs": [
        {
          "output_type": "stream",
          "text": [
            "Epoch 1/10\n",
            "500/500 [==============================] - 73s 144ms/step - loss: 0.3341 - accuracy: 0.8977 - val_loss: 0.0629 - val_accuracy: 0.9807\n",
            "Epoch 2/10\n",
            "500/500 [==============================] - 72s 143ms/step - loss: 0.0533 - accuracy: 0.9832 - val_loss: 0.0518 - val_accuracy: 0.9830\n",
            "Epoch 3/10\n",
            "500/500 [==============================] - 72s 144ms/step - loss: 0.0257 - accuracy: 0.9922 - val_loss: 0.0486 - val_accuracy: 0.9842\n",
            "Epoch 4/10\n",
            "500/500 [==============================] - 72s 144ms/step - loss: 0.0153 - accuracy: 0.9956 - val_loss: 0.0518 - val_accuracy: 0.9849\n",
            "Epoch 5/10\n",
            "500/500 [==============================] - 72s 144ms/step - loss: 0.0107 - accuracy: 0.9969 - val_loss: 0.0514 - val_accuracy: 0.9841\n",
            "Epoch 6/10\n",
            "500/500 [==============================] - 73s 146ms/step - loss: 0.0058 - accuracy: 0.9986 - val_loss: 0.0648 - val_accuracy: 0.9806\n",
            "Epoch 7/10\n",
            "500/500 [==============================] - 73s 145ms/step - loss: 0.0069 - accuracy: 0.9977 - val_loss: 0.0577 - val_accuracy: 0.9854\n",
            "Epoch 8/10\n",
            "500/500 [==============================] - 73s 145ms/step - loss: 0.0046 - accuracy: 0.9987 - val_loss: 0.0729 - val_accuracy: 0.9810\n",
            "Epoch 9/10\n",
            "500/500 [==============================] - 72s 145ms/step - loss: 0.0047 - accuracy: 0.9987 - val_loss: 0.0617 - val_accuracy: 0.9844\n",
            "Epoch 10/10\n",
            "500/500 [==============================] - 73s 145ms/step - loss: 0.0024 - accuracy: 0.9994 - val_loss: 0.0635 - val_accuracy: 0.9846\n"
          ],
          "name": "stdout"
        },
        {
          "output_type": "execute_result",
          "data": {
            "text/plain": [
              "<tensorflow.python.keras.callbacks.History at 0x7ff8b83c9650>"
            ]
          },
          "metadata": {
            "tags": []
          },
          "execution_count": 31
        }
      ]
    },
    {
      "cell_type": "code",
      "metadata": {
        "colab": {
          "base_uri": "https://localhost:8080/"
        },
        "id": "M1HOsdYuVQiH",
        "outputId": "90ddb0b4-ad3a-4434-d941-a18933487c6d"
      },
      "source": [
        "predict = model.predict_classes(X_test)\n"
      ],
      "execution_count": null,
      "outputs": [
        {
          "output_type": "stream",
          "text": [
            "/usr/local/lib/python3.7/dist-packages/tensorflow/python/keras/engine/sequential.py:450: UserWarning: `model.predict_classes()` is deprecated and will be removed after 2021-01-01. Please use instead:* `np.argmax(model.predict(x), axis=-1)`,   if your model does multi-class classification   (e.g. if it uses a `softmax` last-layer activation).* `(model.predict(x) > 0.5).astype(\"int32\")`,   if your model does binary classification   (e.g. if it uses a `sigmoid` last-layer activation).\n",
            "  warnings.warn('`model.predict_classes()` is deprecated and '\n"
          ],
          "name": "stderr"
        }
      ]
    },
    {
      "cell_type": "code",
      "metadata": {
        "colab": {
          "base_uri": "https://localhost:8080/"
        },
        "id": "lmaxYmq7YuAx",
        "outputId": "5ebc567c-06a0-47e3-8dfe-a4e5df1603d2"
      },
      "source": [
        "predict[1]"
      ],
      "execution_count": null,
      "outputs": [
        {
          "output_type": "execute_result",
          "data": {
            "text/plain": [
              "2"
            ]
          },
          "metadata": {
            "tags": []
          },
          "execution_count": 33
        }
      ]
    },
    {
      "cell_type": "code",
      "metadata": {
        "colab": {
          "base_uri": "https://localhost:8080/"
        },
        "id": "LcElbZC8YwAm",
        "outputId": "adb481e9-1f05-4447-fa16-6e8e004bb299"
      },
      "source": [
        "y_test[2]"
      ],
      "execution_count": null,
      "outputs": [
        {
          "output_type": "execute_result",
          "data": {
            "text/plain": [
              "array([0., 1., 0., 0., 0., 0., 0., 0., 0., 0.], dtype=float32)"
            ]
          },
          "metadata": {
            "tags": []
          },
          "execution_count": 34
        }
      ]
    },
    {
      "cell_type": "code",
      "metadata": {
        "id": "Vd9MV_89Yx-n"
      },
      "source": [
        ""
      ],
      "execution_count": null,
      "outputs": []
    }
  ]
}