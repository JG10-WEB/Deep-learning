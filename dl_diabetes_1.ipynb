{
  "nbformat": 4,
  "nbformat_minor": 0,
  "metadata": {
    "colab": {
      "name": "Deep Learning Exp 2 C017.ipynb",
      "provenance": []
    },
    "kernelspec": {
      "name": "python3",
      "display_name": "Python 3"
    }
  },
  "cells": [
    {
      "cell_type": "markdown",
      "metadata": {
        "id": "wWQ2XPJA1P6e"
      },
      "source": [
        "Name: Jay Goyal\n",
        "\n",
        "Experiment: 2\n",
        "\n",
        "Roll No: C017\n",
        "\n",
        "Btech EXTC\n",
        "\n",
        "Third Year\n",
        "\n",
        "Semester 6\n"
      ]
    },
    {
      "cell_type": "code",
      "metadata": {
        "id": "YtsPV4Ek1QEO"
      },
      "source": [
        "import numpy as np\n",
        "import matplotlib.pyplot as plt\n",
        "import pandas as pd\n",
        "import tensorflow as tf"
      ],
      "execution_count": null,
      "outputs": []
    },
    {
      "cell_type": "code",
      "metadata": {
        "colab": {
          "resources": {
            "http://localhost:8080/nbextensions/google.colab/files.js": {
              "data": "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",
              "ok": true,
              "headers": [
                [
                  "content-type",
                  "application/javascript"
                ]
              ],
              "status": 200,
              "status_text": ""
            }
          },
          "base_uri": "https://localhost:8080/",
          "height": 73
        },
        "id": "8RafrGX6i4jx",
        "outputId": "b95ff03a-be5e-41f5-eea0-4c02c9691865"
      },
      "source": [
        "from google.colab import files\n",
        "uploaded = files.upload()"
      ],
      "execution_count": null,
      "outputs": [
        {
          "output_type": "display_data",
          "data": {
            "text/html": [
              "\n",
              "     <input type=\"file\" id=\"files-92e25f2c-b820-4366-9f51-32bc07bc1d46\" name=\"files[]\" multiple disabled\n",
              "        style=\"border:none\" />\n",
              "     <output id=\"result-92e25f2c-b820-4366-9f51-32bc07bc1d46\">\n",
              "      Upload widget is only available when the cell has been executed in the\n",
              "      current browser session. Please rerun this cell to enable.\n",
              "      </output>\n",
              "      <script src=\"/nbextensions/google.colab/files.js\"></script> "
            ],
            "text/plain": [
              "<IPython.core.display.HTML object>"
            ]
          },
          "metadata": {
            "tags": []
          }
        },
        {
          "output_type": "stream",
          "text": [
            "Saving diabetes.csv to diabetes.csv\n"
          ],
          "name": "stdout"
        }
      ]
    },
    {
      "cell_type": "code",
      "metadata": {
        "id": "9ztln5U7i4oJ"
      },
      "source": [
        "df = pd.read_csv('diabetes.csv')"
      ],
      "execution_count": null,
      "outputs": []
    },
    {
      "cell_type": "code",
      "metadata": {
        "colab": {
          "base_uri": "https://localhost:8080/",
          "height": 406
        },
        "id": "Jz5Fr5zYjTQK",
        "outputId": "3886be6f-cb5f-4c47-8582-ee2b8fcd9fa8"
      },
      "source": [
        "df\n"
      ],
      "execution_count": null,
      "outputs": [
        {
          "output_type": "execute_result",
          "data": {
            "text/html": [
              "<div>\n",
              "<style scoped>\n",
              "    .dataframe tbody tr th:only-of-type {\n",
              "        vertical-align: middle;\n",
              "    }\n",
              "\n",
              "    .dataframe tbody tr th {\n",
              "        vertical-align: top;\n",
              "    }\n",
              "\n",
              "    .dataframe thead th {\n",
              "        text-align: right;\n",
              "    }\n",
              "</style>\n",
              "<table border=\"1\" class=\"dataframe\">\n",
              "  <thead>\n",
              "    <tr style=\"text-align: right;\">\n",
              "      <th></th>\n",
              "      <th>Glucose</th>\n",
              "      <th>BMI</th>\n",
              "      <th>Outcome</th>\n",
              "    </tr>\n",
              "  </thead>\n",
              "  <tbody>\n",
              "    <tr>\n",
              "      <th>0</th>\n",
              "      <td>148</td>\n",
              "      <td>33.6</td>\n",
              "      <td>1</td>\n",
              "    </tr>\n",
              "    <tr>\n",
              "      <th>1</th>\n",
              "      <td>85</td>\n",
              "      <td>26.6</td>\n",
              "      <td>0</td>\n",
              "    </tr>\n",
              "    <tr>\n",
              "      <th>2</th>\n",
              "      <td>183</td>\n",
              "      <td>23.3</td>\n",
              "      <td>1</td>\n",
              "    </tr>\n",
              "    <tr>\n",
              "      <th>3</th>\n",
              "      <td>89</td>\n",
              "      <td>28.1</td>\n",
              "      <td>0</td>\n",
              "    </tr>\n",
              "    <tr>\n",
              "      <th>4</th>\n",
              "      <td>137</td>\n",
              "      <td>43.1</td>\n",
              "      <td>1</td>\n",
              "    </tr>\n",
              "    <tr>\n",
              "      <th>...</th>\n",
              "      <td>...</td>\n",
              "      <td>...</td>\n",
              "      <td>...</td>\n",
              "    </tr>\n",
              "    <tr>\n",
              "      <th>763</th>\n",
              "      <td>101</td>\n",
              "      <td>32.9</td>\n",
              "      <td>0</td>\n",
              "    </tr>\n",
              "    <tr>\n",
              "      <th>764</th>\n",
              "      <td>122</td>\n",
              "      <td>36.8</td>\n",
              "      <td>0</td>\n",
              "    </tr>\n",
              "    <tr>\n",
              "      <th>765</th>\n",
              "      <td>121</td>\n",
              "      <td>26.2</td>\n",
              "      <td>0</td>\n",
              "    </tr>\n",
              "    <tr>\n",
              "      <th>766</th>\n",
              "      <td>126</td>\n",
              "      <td>30.1</td>\n",
              "      <td>1</td>\n",
              "    </tr>\n",
              "    <tr>\n",
              "      <th>767</th>\n",
              "      <td>93</td>\n",
              "      <td>30.4</td>\n",
              "      <td>0</td>\n",
              "    </tr>\n",
              "  </tbody>\n",
              "</table>\n",
              "<p>768 rows × 3 columns</p>\n",
              "</div>"
            ],
            "text/plain": [
              "     Glucose   BMI  Outcome\n",
              "0        148  33.6        1\n",
              "1         85  26.6        0\n",
              "2        183  23.3        1\n",
              "3         89  28.1        0\n",
              "4        137  43.1        1\n",
              "..       ...   ...      ...\n",
              "763      101  32.9        0\n",
              "764      122  36.8        0\n",
              "765      121  26.2        0\n",
              "766      126  30.1        1\n",
              "767       93  30.4        0\n",
              "\n",
              "[768 rows x 3 columns]"
            ]
          },
          "metadata": {
            "tags": []
          },
          "execution_count": 5
        }
      ]
    },
    {
      "cell_type": "code",
      "metadata": {
        "id": "tTHi3oyMjUJi"
      },
      "source": [
        "#Converting categorical values to numeric values\n",
        "#label incoder which converts numeric to categorical\n",
        "from sklearn.preprocessing import StandardScaler\n",
        "scaler = StandardScaler()\n",
        "feature = df.iloc[:,0:2]\n",
        "scaler.fit(feature)\n",
        "feature = scaler.transform(feature)\n",
        "df.iloc[:,0:2] = feature \n"
      ],
      "execution_count": null,
      "outputs": []
    },
    {
      "cell_type": "code",
      "metadata": {
        "id": "Rud_oUcXnH_g"
      },
      "source": [
        "#splittimg the data into train and test\n",
        "from sklearn.model_selection import train_test_split\n",
        "x_train,x_test,y_train,y_test = train_test_split(df.iloc[:,0:2],df['Outcome'],test_size = 0.2,random_state = 4)"
      ],
      "execution_count": null,
      "outputs": []
    },
    {
      "cell_type": "code",
      "metadata": {
        "colab": {
          "base_uri": "https://localhost:8080/",
          "height": 406
        },
        "id": "ixmqAGoUolfh",
        "outputId": "e1fa1dff-9e92-4119-f388-b818aa0207a9"
      },
      "source": [
        "x_train"
      ],
      "execution_count": null,
      "outputs": [
        {
          "output_type": "execute_result",
          "data": {
            "text/html": [
              "<div>\n",
              "<style scoped>\n",
              "    .dataframe tbody tr th:only-of-type {\n",
              "        vertical-align: middle;\n",
              "    }\n",
              "\n",
              "    .dataframe tbody tr th {\n",
              "        vertical-align: top;\n",
              "    }\n",
              "\n",
              "    .dataframe thead th {\n",
              "        text-align: right;\n",
              "    }\n",
              "</style>\n",
              "<table border=\"1\" class=\"dataframe\">\n",
              "  <thead>\n",
              "    <tr style=\"text-align: right;\">\n",
              "      <th></th>\n",
              "      <th>Glucose</th>\n",
              "      <th>BMI</th>\n",
              "    </tr>\n",
              "  </thead>\n",
              "  <tbody>\n",
              "    <tr>\n",
              "      <th>596</th>\n",
              "      <td>-1.686745</td>\n",
              "      <td>1.688968</td>\n",
              "    </tr>\n",
              "    <tr>\n",
              "      <th>90</th>\n",
              "      <td>-1.279882</td>\n",
              "      <td>-1.636316</td>\n",
              "    </tr>\n",
              "    <tr>\n",
              "      <th>734</th>\n",
              "      <td>-0.497453</td>\n",
              "      <td>-1.103255</td>\n",
              "    </tr>\n",
              "    <tr>\n",
              "      <th>694</th>\n",
              "      <td>-0.966911</td>\n",
              "      <td>-1.077872</td>\n",
              "    </tr>\n",
              "    <tr>\n",
              "      <th>517</th>\n",
              "      <td>0.128489</td>\n",
              "      <td>0.711690</td>\n",
              "    </tr>\n",
              "    <tr>\n",
              "      <th>...</th>\n",
              "      <td>...</td>\n",
              "      <td>...</td>\n",
              "    </tr>\n",
              "    <tr>\n",
              "      <th>360</th>\n",
              "      <td>2.131507</td>\n",
              "      <td>-0.100593</td>\n",
              "    </tr>\n",
              "    <tr>\n",
              "      <th>709</th>\n",
              "      <td>-0.873019</td>\n",
              "      <td>0.762457</td>\n",
              "    </tr>\n",
              "    <tr>\n",
              "      <th>439</th>\n",
              "      <td>-0.434859</td>\n",
              "      <td>0.610154</td>\n",
              "    </tr>\n",
              "    <tr>\n",
              "      <th>174</th>\n",
              "      <td>-1.436368</td>\n",
              "      <td>-0.290972</td>\n",
              "    </tr>\n",
              "    <tr>\n",
              "      <th>122</th>\n",
              "      <td>-0.434859</td>\n",
              "      <td>0.204013</td>\n",
              "    </tr>\n",
              "  </tbody>\n",
              "</table>\n",
              "<p>614 rows × 2 columns</p>\n",
              "</div>"
            ],
            "text/plain": [
              "      Glucose       BMI\n",
              "596 -1.686745  1.688968\n",
              "90  -1.279882 -1.636316\n",
              "734 -0.497453 -1.103255\n",
              "694 -0.966911 -1.077872\n",
              "517  0.128489  0.711690\n",
              "..        ...       ...\n",
              "360  2.131507 -0.100593\n",
              "709 -0.873019  0.762457\n",
              "439 -0.434859  0.610154\n",
              "174 -1.436368 -0.290972\n",
              "122 -0.434859  0.204013\n",
              "\n",
              "[614 rows x 2 columns]"
            ]
          },
          "metadata": {
            "tags": []
          },
          "execution_count": 12
        }
      ]
    },
    {
      "cell_type": "code",
      "metadata": {
        "colab": {
          "base_uri": "https://localhost:8080/"
        },
        "id": "KU2nhQZIoyvA",
        "outputId": "6d5377cd-1f4b-4760-aa43-0f8fd64547fc"
      },
      "source": [
        "x_train.shape"
      ],
      "execution_count": null,
      "outputs": [
        {
          "output_type": "execute_result",
          "data": {
            "text/plain": [
              "(614, 2)"
            ]
          },
          "metadata": {
            "tags": []
          },
          "execution_count": 13
        }
      ]
    },
    {
      "cell_type": "code",
      "metadata": {
        "colab": {
          "base_uri": "https://localhost:8080/"
        },
        "id": "3rjBsnP_o2j4",
        "outputId": "eaf602f1-3f6d-4ba5-e615-b225524a8ffe"
      },
      "source": [
        "x_test.shape"
      ],
      "execution_count": null,
      "outputs": [
        {
          "output_type": "execute_result",
          "data": {
            "text/plain": [
              "(154, 2)"
            ]
          },
          "metadata": {
            "tags": []
          },
          "execution_count": 14
        }
      ]
    },
    {
      "cell_type": "code",
      "metadata": {
        "id": "5EumNpIMo6s_"
      },
      "source": [
        "from keras import models as mdls\n",
        "from keras import layers as lyrs"
      ],
      "execution_count": null,
      "outputs": []
    },
    {
      "cell_type": "code",
      "metadata": {
        "id": "p_3IOx9Xquox"
      },
      "source": [
        "#Step 1: Building the model\n",
        "model = mdls.Sequential([lyrs.Dense(1, input_shape = (2,),activation = 'sigmoid',kernel_initializer ='ones',bias_initializer ='zeros')])\n",
        "model = mdls.Sequential([lyrs.Dense(1, activation = 'sigmoid', kernel_initializer ='ones',bias_initializer = 'zeros')])  "
      ],
      "execution_count": null,
      "outputs": []
    },
    {
      "cell_type": "code",
      "metadata": {
        "id": "b3tQ6ip9tmC5"
      },
      "source": [
        "#Step 2: Compile the network\n",
        "model.compile(optimizer= 'SGD', loss='MeanSquaredError', metrics = ['accuracy'])"
      ],
      "execution_count": null,
      "outputs": []
    },
    {
      "cell_type": "code",
      "metadata": {
        "colab": {
          "base_uri": "https://localhost:8080/"
        },
        "id": "Mgy6BRRuwb6Q",
        "outputId": "e7619f21-c776-424f-a045-1da6b4c69ce8"
      },
      "source": [
        "#Step 3: Train the model\n",
        "model.fit(x_train,y_train,epochs = 100)"
      ],
      "execution_count": null,
      "outputs": [
        {
          "output_type": "stream",
          "text": [
            "Epoch 1/100\n",
            "20/20 [==============================] - 0s 988us/step - loss: 0.1874 - accuracy: 0.7166\n",
            "Epoch 2/100\n",
            "20/20 [==============================] - 0s 895us/step - loss: 0.1869 - accuracy: 0.7182\n",
            "Epoch 3/100\n",
            "20/20 [==============================] - 0s 1ms/step - loss: 0.1865 - accuracy: 0.7182\n",
            "Epoch 4/100\n",
            "20/20 [==============================] - 0s 919us/step - loss: 0.1861 - accuracy: 0.7215\n",
            "Epoch 5/100\n",
            "20/20 [==============================] - 0s 1ms/step - loss: 0.1857 - accuracy: 0.7231\n",
            "Epoch 6/100\n",
            "20/20 [==============================] - 0s 928us/step - loss: 0.1853 - accuracy: 0.7215\n",
            "Epoch 7/100\n",
            "20/20 [==============================] - 0s 925us/step - loss: 0.1849 - accuracy: 0.7215\n",
            "Epoch 8/100\n",
            "20/20 [==============================] - 0s 867us/step - loss: 0.1846 - accuracy: 0.7215\n",
            "Epoch 9/100\n",
            "20/20 [==============================] - 0s 945us/step - loss: 0.1842 - accuracy: 0.7215\n",
            "Epoch 10/100\n",
            "20/20 [==============================] - 0s 979us/step - loss: 0.1839 - accuracy: 0.7199\n",
            "Epoch 11/100\n",
            "20/20 [==============================] - 0s 883us/step - loss: 0.1835 - accuracy: 0.7199\n",
            "Epoch 12/100\n",
            "20/20 [==============================] - 0s 977us/step - loss: 0.1832 - accuracy: 0.7231\n",
            "Epoch 13/100\n",
            "20/20 [==============================] - 0s 847us/step - loss: 0.1828 - accuracy: 0.7215\n",
            "Epoch 14/100\n",
            "20/20 [==============================] - 0s 945us/step - loss: 0.1825 - accuracy: 0.7231\n",
            "Epoch 15/100\n",
            "20/20 [==============================] - 0s 994us/step - loss: 0.1822 - accuracy: 0.7215\n",
            "Epoch 16/100\n",
            "20/20 [==============================] - 0s 1ms/step - loss: 0.1818 - accuracy: 0.7182\n",
            "Epoch 17/100\n",
            "20/20 [==============================] - 0s 995us/step - loss: 0.1816 - accuracy: 0.7182\n",
            "Epoch 18/100\n",
            "20/20 [==============================] - 0s 983us/step - loss: 0.1813 - accuracy: 0.7166\n",
            "Epoch 19/100\n",
            "20/20 [==============================] - 0s 977us/step - loss: 0.1810 - accuracy: 0.7199\n",
            "Epoch 20/100\n",
            "20/20 [==============================] - 0s 964us/step - loss: 0.1807 - accuracy: 0.7199\n",
            "Epoch 21/100\n",
            "20/20 [==============================] - 0s 943us/step - loss: 0.1804 - accuracy: 0.7182\n",
            "Epoch 22/100\n",
            "20/20 [==============================] - 0s 1ms/step - loss: 0.1802 - accuracy: 0.7199\n",
            "Epoch 23/100\n",
            "20/20 [==============================] - 0s 898us/step - loss: 0.1799 - accuracy: 0.7199\n",
            "Epoch 24/100\n",
            "20/20 [==============================] - 0s 933us/step - loss: 0.1797 - accuracy: 0.7182\n",
            "Epoch 25/100\n",
            "20/20 [==============================] - 0s 966us/step - loss: 0.1795 - accuracy: 0.7215\n",
            "Epoch 26/100\n",
            "20/20 [==============================] - 0s 1ms/step - loss: 0.1792 - accuracy: 0.7231\n",
            "Epoch 27/100\n",
            "20/20 [==============================] - 0s 991us/step - loss: 0.1790 - accuracy: 0.7264\n",
            "Epoch 28/100\n",
            "20/20 [==============================] - 0s 1ms/step - loss: 0.1788 - accuracy: 0.7264\n",
            "Epoch 29/100\n",
            "20/20 [==============================] - 0s 938us/step - loss: 0.1785 - accuracy: 0.7280\n",
            "Epoch 30/100\n",
            "20/20 [==============================] - 0s 922us/step - loss: 0.1783 - accuracy: 0.7280\n",
            "Epoch 31/100\n",
            "20/20 [==============================] - 0s 970us/step - loss: 0.1781 - accuracy: 0.7296\n",
            "Epoch 32/100\n",
            "20/20 [==============================] - 0s 1ms/step - loss: 0.1779 - accuracy: 0.7280\n",
            "Epoch 33/100\n",
            "20/20 [==============================] - 0s 1ms/step - loss: 0.1777 - accuracy: 0.7280\n",
            "Epoch 34/100\n",
            "20/20 [==============================] - 0s 928us/step - loss: 0.1775 - accuracy: 0.7280\n",
            "Epoch 35/100\n",
            "20/20 [==============================] - 0s 908us/step - loss: 0.1773 - accuracy: 0.7280\n",
            "Epoch 36/100\n",
            "20/20 [==============================] - 0s 1ms/step - loss: 0.1772 - accuracy: 0.7280\n",
            "Epoch 37/100\n",
            "20/20 [==============================] - 0s 1ms/step - loss: 0.1770 - accuracy: 0.7296\n",
            "Epoch 38/100\n",
            "20/20 [==============================] - 0s 1ms/step - loss: 0.1768 - accuracy: 0.7280\n",
            "Epoch 39/100\n",
            "20/20 [==============================] - 0s 1ms/step - loss: 0.1766 - accuracy: 0.7280\n",
            "Epoch 40/100\n",
            "20/20 [==============================] - 0s 1ms/step - loss: 0.1765 - accuracy: 0.7280\n",
            "Epoch 41/100\n",
            "20/20 [==============================] - 0s 1ms/step - loss: 0.1763 - accuracy: 0.7296\n",
            "Epoch 42/100\n",
            "20/20 [==============================] - 0s 1ms/step - loss: 0.1761 - accuracy: 0.7280\n",
            "Epoch 43/100\n",
            "20/20 [==============================] - 0s 1ms/step - loss: 0.1760 - accuracy: 0.7280\n",
            "Epoch 44/100\n",
            "20/20 [==============================] - 0s 1ms/step - loss: 0.1758 - accuracy: 0.7280\n",
            "Epoch 45/100\n",
            "20/20 [==============================] - 0s 2ms/step - loss: 0.1757 - accuracy: 0.7313\n",
            "Epoch 46/100\n",
            "20/20 [==============================] - 0s 1ms/step - loss: 0.1755 - accuracy: 0.7345\n",
            "Epoch 47/100\n",
            "20/20 [==============================] - 0s 1ms/step - loss: 0.1754 - accuracy: 0.7362\n",
            "Epoch 48/100\n",
            "20/20 [==============================] - 0s 953us/step - loss: 0.1753 - accuracy: 0.7345\n",
            "Epoch 49/100\n",
            "20/20 [==============================] - 0s 1ms/step - loss: 0.1751 - accuracy: 0.7378\n",
            "Epoch 50/100\n",
            "20/20 [==============================] - 0s 1ms/step - loss: 0.1750 - accuracy: 0.7378\n",
            "Epoch 51/100\n",
            "20/20 [==============================] - 0s 977us/step - loss: 0.1749 - accuracy: 0.7378\n",
            "Epoch 52/100\n",
            "20/20 [==============================] - 0s 980us/step - loss: 0.1748 - accuracy: 0.7410\n",
            "Epoch 53/100\n",
            "20/20 [==============================] - 0s 898us/step - loss: 0.1747 - accuracy: 0.7394\n",
            "Epoch 54/100\n",
            "20/20 [==============================] - 0s 1ms/step - loss: 0.1745 - accuracy: 0.7394\n",
            "Epoch 55/100\n",
            "20/20 [==============================] - 0s 996us/step - loss: 0.1744 - accuracy: 0.7394\n",
            "Epoch 56/100\n",
            "20/20 [==============================] - 0s 1ms/step - loss: 0.1743 - accuracy: 0.7378\n",
            "Epoch 57/100\n",
            "20/20 [==============================] - 0s 1ms/step - loss: 0.1742 - accuracy: 0.7378\n",
            "Epoch 58/100\n",
            "20/20 [==============================] - 0s 1ms/step - loss: 0.1741 - accuracy: 0.7378\n",
            "Epoch 59/100\n",
            "20/20 [==============================] - 0s 1ms/step - loss: 0.1740 - accuracy: 0.7378\n",
            "Epoch 60/100\n",
            "20/20 [==============================] - 0s 1ms/step - loss: 0.1739 - accuracy: 0.7378\n",
            "Epoch 61/100\n",
            "20/20 [==============================] - 0s 1ms/step - loss: 0.1739 - accuracy: 0.7394\n",
            "Epoch 62/100\n",
            "20/20 [==============================] - 0s 1ms/step - loss: 0.1738 - accuracy: 0.7394\n",
            "Epoch 63/100\n",
            "20/20 [==============================] - 0s 1ms/step - loss: 0.1737 - accuracy: 0.7410\n",
            "Epoch 64/100\n",
            "20/20 [==============================] - 0s 1ms/step - loss: 0.1736 - accuracy: 0.7410\n",
            "Epoch 65/100\n",
            "20/20 [==============================] - 0s 1ms/step - loss: 0.1735 - accuracy: 0.7410\n",
            "Epoch 66/100\n",
            "20/20 [==============================] - 0s 903us/step - loss: 0.1734 - accuracy: 0.7410\n",
            "Epoch 67/100\n",
            "20/20 [==============================] - 0s 1ms/step - loss: 0.1733 - accuracy: 0.7443\n",
            "Epoch 68/100\n",
            "20/20 [==============================] - 0s 1ms/step - loss: 0.1733 - accuracy: 0.7427\n",
            "Epoch 69/100\n",
            "20/20 [==============================] - 0s 1ms/step - loss: 0.1732 - accuracy: 0.7427\n",
            "Epoch 70/100\n",
            "20/20 [==============================] - 0s 948us/step - loss: 0.1731 - accuracy: 0.7443\n",
            "Epoch 71/100\n",
            "20/20 [==============================] - 0s 957us/step - loss: 0.1730 - accuracy: 0.7443\n",
            "Epoch 72/100\n",
            "20/20 [==============================] - 0s 979us/step - loss: 0.1730 - accuracy: 0.7443\n",
            "Epoch 73/100\n",
            "20/20 [==============================] - 0s 1ms/step - loss: 0.1729 - accuracy: 0.7443\n",
            "Epoch 74/100\n",
            "20/20 [==============================] - 0s 1ms/step - loss: 0.1728 - accuracy: 0.7443\n",
            "Epoch 75/100\n",
            "20/20 [==============================] - 0s 1ms/step - loss: 0.1728 - accuracy: 0.7443\n",
            "Epoch 76/100\n",
            "20/20 [==============================] - 0s 1ms/step - loss: 0.1727 - accuracy: 0.7459\n",
            "Epoch 77/100\n",
            "20/20 [==============================] - 0s 905us/step - loss: 0.1727 - accuracy: 0.7459\n",
            "Epoch 78/100\n",
            "20/20 [==============================] - 0s 1ms/step - loss: 0.1726 - accuracy: 0.7459\n",
            "Epoch 79/100\n",
            "20/20 [==============================] - 0s 1ms/step - loss: 0.1726 - accuracy: 0.7459\n",
            "Epoch 80/100\n",
            "20/20 [==============================] - 0s 960us/step - loss: 0.1725 - accuracy: 0.7459\n",
            "Epoch 81/100\n",
            "20/20 [==============================] - 0s 1ms/step - loss: 0.1725 - accuracy: 0.7459\n",
            "Epoch 82/100\n",
            "20/20 [==============================] - 0s 1ms/step - loss: 0.1724 - accuracy: 0.7476\n",
            "Epoch 83/100\n",
            "20/20 [==============================] - 0s 1ms/step - loss: 0.1723 - accuracy: 0.7476\n",
            "Epoch 84/100\n",
            "20/20 [==============================] - 0s 933us/step - loss: 0.1723 - accuracy: 0.7476\n",
            "Epoch 85/100\n",
            "20/20 [==============================] - 0s 1ms/step - loss: 0.1722 - accuracy: 0.7492\n",
            "Epoch 86/100\n",
            "20/20 [==============================] - 0s 1ms/step - loss: 0.1722 - accuracy: 0.7492\n",
            "Epoch 87/100\n",
            "20/20 [==============================] - 0s 1ms/step - loss: 0.1722 - accuracy: 0.7492\n",
            "Epoch 88/100\n",
            "20/20 [==============================] - 0s 1ms/step - loss: 0.1721 - accuracy: 0.7476\n",
            "Epoch 89/100\n",
            "20/20 [==============================] - 0s 1ms/step - loss: 0.1721 - accuracy: 0.7476\n",
            "Epoch 90/100\n",
            "20/20 [==============================] - 0s 1ms/step - loss: 0.1720 - accuracy: 0.7476\n",
            "Epoch 91/100\n",
            "20/20 [==============================] - 0s 1ms/step - loss: 0.1720 - accuracy: 0.7476\n",
            "Epoch 92/100\n",
            "20/20 [==============================] - 0s 933us/step - loss: 0.1720 - accuracy: 0.7476\n",
            "Epoch 93/100\n",
            "20/20 [==============================] - 0s 982us/step - loss: 0.1719 - accuracy: 0.7492\n",
            "Epoch 94/100\n",
            "20/20 [==============================] - 0s 955us/step - loss: 0.1719 - accuracy: 0.7492\n",
            "Epoch 95/100\n",
            "20/20 [==============================] - 0s 923us/step - loss: 0.1718 - accuracy: 0.7476\n",
            "Epoch 96/100\n",
            "20/20 [==============================] - 0s 943us/step - loss: 0.1718 - accuracy: 0.7476\n",
            "Epoch 97/100\n",
            "20/20 [==============================] - 0s 1ms/step - loss: 0.1718 - accuracy: 0.7492\n",
            "Epoch 98/100\n",
            "20/20 [==============================] - 0s 1ms/step - loss: 0.1717 - accuracy: 0.7492\n",
            "Epoch 99/100\n",
            "20/20 [==============================] - 0s 1ms/step - loss: 0.1717 - accuracy: 0.7492\n",
            "Epoch 100/100\n",
            "20/20 [==============================] - 0s 1ms/step - loss: 0.1716 - accuracy: 0.7492\n"
          ],
          "name": "stdout"
        },
        {
          "output_type": "execute_result",
          "data": {
            "text/plain": [
              "<tensorflow.python.keras.callbacks.History at 0x7f1e6d48e4e0>"
            ]
          },
          "metadata": {
            "tags": []
          },
          "execution_count": 30
        }
      ]
    },
    {
      "cell_type": "code",
      "metadata": {
        "colab": {
          "base_uri": "https://localhost:8080/"
        },
        "id": "GdNn4W7nxpGV",
        "outputId": "5d7c12bd-a63f-4202-ba00-4f3079b7e39a"
      },
      "source": [
        "#Evaluate the model\n",
        "model.evaluate(x_test, y_test)"
      ],
      "execution_count": null,
      "outputs": [
        {
          "output_type": "stream",
          "text": [
            "5/5 [==============================] - 0s 1ms/step - loss: 0.1417 - accuracy: 0.8117\n"
          ],
          "name": "stdout"
        },
        {
          "output_type": "execute_result",
          "data": {
            "text/plain": [
              "[0.14168278872966766, 0.8116883039474487]"
            ]
          },
          "metadata": {
            "tags": []
          },
          "execution_count": 31
        }
      ]
    },
    {
      "cell_type": "code",
      "metadata": {
        "colab": {
          "base_uri": "https://localhost:8080/"
        },
        "id": "jfUT4IefzLiW",
        "outputId": "696bed97-39b5-45a5-b227-87c270b29429"
      },
      "source": [
        "yhat = model.predict(x_test)# These are sigmoid values\n",
        "y_test_float = y_test.astype('float32')\n",
        "yhat =np.insert(yhat, -1,y_test_float,axis=1)# inserting an additional column in the array\n",
        "print(yhat)\n"
      ],
      "execution_count": null,
      "outputs": [
        {
          "output_type": "stream",
          "text": [
            "[[0.         0.21218908]\n",
            " [0.         0.06574038]\n",
            " [0.         0.19436502]\n",
            " [0.         0.63045204]\n",
            " [1.         0.49820644]\n",
            " [1.         0.64342713]\n",
            " [1.         0.75859773]\n",
            " [1.         0.12143561]\n",
            " [1.         0.78014594]\n",
            " [0.         0.12132281]\n",
            " [0.         0.4915896 ]\n",
            " [0.         0.14838344]\n",
            " [1.         0.2749607 ]\n",
            " [0.         0.1188722 ]\n",
            " [0.         0.16520718]\n",
            " [1.         0.58112466]\n",
            " [1.         0.8472003 ]\n",
            " [1.         0.95015633]\n",
            " [0.         0.06383693]\n",
            " [0.         0.10373265]\n",
            " [0.         0.17566192]\n",
            " [0.         0.6656173 ]\n",
            " [0.         0.13412619]\n",
            " [1.         0.88613665]\n",
            " [1.         0.16535306]\n",
            " [0.         0.6524089 ]\n",
            " [0.         0.12803999]\n",
            " [1.         0.46369478]\n",
            " [1.         0.41875505]\n",
            " [1.         0.2139048 ]\n",
            " [1.         0.8118125 ]\n",
            " [0.         0.10398117]\n",
            " [0.         0.36179698]\n",
            " [0.         0.06700867]\n",
            " [0.         0.77245927]\n",
            " [0.         0.19717541]\n",
            " [0.         0.55956906]\n",
            " [0.         0.49495384]\n",
            " [0.         0.07564849]\n",
            " [1.         0.7153592 ]\n",
            " [1.         0.55956906]\n",
            " [0.         0.45539355]\n",
            " [0.         0.24819884]\n",
            " [1.         0.8713011 ]\n",
            " [0.         0.21200338]\n",
            " [0.         0.09929529]\n",
            " [0.         0.220896  ]\n",
            " [1.         0.8778695 ]\n",
            " [0.         0.27820948]\n",
            " [0.         0.11977243]\n",
            " [1.         0.664887  ]\n",
            " [0.         0.5903958 ]\n",
            " [0.         0.165054  ]\n",
            " [0.         0.60535437]\n",
            " [1.         0.4600866 ]\n",
            " [0.         0.08873278]\n",
            " [0.         0.14399707]\n",
            " [0.         0.08912483]\n",
            " [0.         0.12264538]\n",
            " [1.         0.726667  ]\n",
            " [0.         0.22237393]\n",
            " [0.         0.07271931]\n",
            " [1.         0.51341456]\n",
            " [0.         0.0219292 ]\n",
            " [0.         0.3323571 ]\n",
            " [0.         0.11624157]\n",
            " [0.         0.07531455]\n",
            " [0.         0.44777727]\n",
            " [0.         0.4105079 ]\n",
            " [1.         0.860929  ]\n",
            " [0.         0.16994697]\n",
            " [1.         0.52619904]\n",
            " [0.         0.23845243]\n",
            " [0.         0.09799972]\n",
            " [0.         0.1827203 ]\n",
            " [1.         0.8550625 ]\n",
            " [0.         0.37158543]\n",
            " [1.         0.31767017]\n",
            " [0.         0.17904538]\n",
            " [0.         0.7758341 ]\n",
            " [1.         0.79352796]\n",
            " [0.         0.3994527 ]\n",
            " [0.         0.19453073]\n",
            " [1.         0.9545396 ]\n",
            " [0.         0.58519363]\n",
            " [0.         0.0821144 ]\n",
            " [0.         0.07515618]\n",
            " [1.         0.78950894]\n",
            " [0.         0.4448366 ]\n",
            " [1.         0.29507047]\n",
            " [0.         0.53510356]\n",
            " [0.         0.12369636]\n",
            " [0.         0.28773233]\n",
            " [0.         0.1929406 ]\n",
            " [0.         0.07568735]\n",
            " [0.         0.37170267]\n",
            " [0.         0.2441845 ]\n",
            " [1.         0.7848311 ]\n",
            " [1.         0.7316434 ]\n",
            " [0.         0.4095802 ]\n",
            " [0.         0.23522615]\n",
            " [0.         0.599121  ]\n",
            " [1.         0.27819875]\n",
            " [1.         0.38670376]\n",
            " [1.         0.8761237 ]\n",
            " [0.         0.43858296]\n",
            " [0.         0.10807127]\n",
            " [1.         0.76892155]\n",
            " [1.         0.48387912]\n",
            " [0.         0.3486135 ]\n",
            " [0.         0.8162241 ]\n",
            " [1.         0.8518212 ]\n",
            " [1.         0.686188  ]\n",
            " [0.         0.0969089 ]\n",
            " [0.         0.20304152]\n",
            " [0.         0.16988373]\n",
            " [0.         0.36532164]\n",
            " [0.         0.62285465]\n",
            " [1.         0.55369544]\n",
            " [1.         0.590946  ]\n",
            " [0.         0.39452755]\n",
            " [0.         0.13614118]\n",
            " [0.         0.399199  ]\n",
            " [0.         0.16254038]\n",
            " [0.         0.4351351 ]\n",
            " [0.         0.23300242]\n",
            " [0.         0.24506879]\n",
            " [0.         0.07841575]\n",
            " [0.         0.2389377 ]\n",
            " [1.         0.8836615 ]\n",
            " [1.         0.47997725]\n",
            " [0.         0.0958724 ]\n",
            " [1.         0.22632211]\n",
            " [0.         0.24527436]\n",
            " [1.         0.63406074]\n",
            " [0.         0.11080298]\n",
            " [0.         0.3407886 ]\n",
            " [0.         0.1940341 ]\n",
            " [1.         0.636689  ]\n",
            " [0.         0.9099461 ]\n",
            " [0.         0.15667778]\n",
            " [0.         0.10163715]\n",
            " [0.         0.14031458]\n",
            " [0.         0.45178232]\n",
            " [1.         0.7773391 ]\n",
            " [1.         0.7044687 ]\n",
            " [1.         0.9162024 ]\n",
            " [0.         0.46222872]\n",
            " [0.         0.31988084]\n",
            " [0.         0.44964814]\n",
            " [0.         0.07790315]\n",
            " [0.         0.45298108]\n",
            " [1.         0.623103  ]\n",
            " [1.         0.6897811 ]]\n"
          ],
          "name": "stdout"
        }
      ]
    },
    {
      "cell_type": "code",
      "metadata": {
        "id": "nuhvqRyvzpOd"
      },
      "source": [
        ""
      ],
      "execution_count": null,
      "outputs": []
    }
  ]
}